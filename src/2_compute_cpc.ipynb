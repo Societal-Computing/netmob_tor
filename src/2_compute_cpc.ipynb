{
 "cells": [
  {
   "cell_type": "code",
   "execution_count": null,
   "id": "aa8b9fe5",
   "metadata": {},
   "outputs": [],
   "source": [
    "import geopandas as gpd\n",
    "import pandas as pd\n",
    "import numpy as np\n",
    "from tqdm import tqdm\n",
    "import datetime\n",
    "import matplotlib.pyplot as plt\n",
    "from scipy.stats import spearmanr, t\n",
    "import seaborn as sns\n",
    "from scipy.optimize import minimize"
   ]
  },
  {
   "cell_type": "markdown",
   "id": "12b88e3d",
   "metadata": {},
   "source": [
    "Get map data created in '1_combining_datasets.ipynb'"
   ]
  },
  {
   "cell_type": "code",
   "execution_count": null,
   "id": "75ffff0f",
   "metadata": {},
   "outputs": [],
   "source": [
    "map_df = gpd.read_file(\"../midsave/map_crime.gpkg\")"
   ]
  },
  {
   "cell_type": "markdown",
   "id": "9d460589",
   "metadata": {},
   "source": [
    "Define parameters of interest"
   ]
  },
  {
   "cell_type": "code",
   "execution_count": null,
   "id": "96fc138e",
   "metadata": {},
   "outputs": [],
   "source": [
    "cities = ['Bordeaux', 'Clermont-Ferrand', 'Dijon', 'Grenoble', 'Lille',\n",
    "                 'Lyon', 'Mans', 'Marseille', 'Metz', 'Montpellier',\n",
    "                 'Nancy', 'Nantes', 'Nice', 'Orleans', 'Paris',\n",
    "                 'Rennes', 'Saint-Etienne', 'Strasbourg', 'Toulouse', 'Tours']\n",
    "\n",
    "apps = ['Web_Adult', 'Tor', 'YouTube']\n",
    "\n",
    "traffic_dir = ['DL']"
   ]
  },
  {
   "cell_type": "markdown",
   "id": "89ddbf9f",
   "metadata": {},
   "source": [
    "Extract commune-level time series"
   ]
  },
  {
   "cell_type": "code",
   "execution_count": null,
   "id": "a90acfee",
   "metadata": {},
   "outputs": [],
   "source": [
    "df = pd.DataFrame()\n",
    "\n",
    "for city_str in tqdm(cities):\n",
    "    \n",
    "    map_city = map_df[map_df.cities == city_str]\n",
    "    \n",
    "    df_0 = pd.DataFrame()\n",
    "    \n",
    "    for app_str in apps:\n",
    "        for rate_str in traffic_dir:\n",
    "            \n",
    "            df_1 = pd.DataFrame()\n",
    "            \n",
    "            for month in range(3, 6):\n",
    "              traffic = dict()\n",
    "              s = 1\n",
    "              if month == 3:\n",
    "                s = 16\n",
    "              if month == 4:\n",
    "                n = 31\n",
    "              else:\n",
    "                n = 32\n",
    "              for day in range(s, n):\n",
    "                day_index = day\n",
    "                if day < 10:\n",
    "                  day_str = f'20190{month}0{day}'\n",
    "                else:\n",
    "                  day_str = f'20190{month}{day}'\n",
    "\n",
    "                day_print = datetime.datetime.strptime(day_str, '%Y%m%d')\n",
    "                times = [day_print + datetime.timedelta(minutes=15*i) for i in range(96)]\n",
    "                times_str = [t.strftime('%H:%M') for t in times]\n",
    "\n",
    "                # column names\n",
    "                columns = ['tile_id'] + times_str\n",
    "                \n",
    "                df_2 = pd.read_csv(f'../Data/Netmob/{city_str}/{app_str}/{day_str}/{city_str}_{app_str}_{day_str}_{rate_str}.txt', sep = \" \", names = columns)\n",
    "                \n",
    "                df_2_list= list(df_2)\n",
    "                df_2_list.remove('tile_id')\n",
    "                \n",
    "                df_2 = (df_2.merge(map_city, on = 'tile_id', how = 'left')\n",
    "                        .groupby(['code_dep', 'code_com'])[df_2_list]\n",
    "                        .sum()\n",
    "                        .reset_index()\n",
    "                        .copy())\n",
    "                \n",
    "                df_2[\"date\"] = day_str\n",
    "                \n",
    "                df_1 = pd.concat([df_1,df_2])\n",
    "            \n",
    "            df_1 = pd.melt(df_1, id_vars=['code_dep', 'code_com', 'date'], var_name='time', value_name=app_str).copy()\n",
    "                                  \n",
    "            if df_0.empty:\n",
    "                df_0 = df_1.copy()\n",
    "            else:\n",
    "                df_0 = df_0.merge(df_1, on = ['code_dep', 'code_com', 'date', 'time'], how = 'left').reset_index().copy()\n",
    "            \n",
    "            df_0[\"traffic_dir\"] = rate_str\n",
    "            df_0[\"cities\"] = city_str            \n",
    "            \n",
    "    df = pd.concat([df,df_0])"
   ]
  },
  {
   "cell_type": "code",
   "execution_count": null,
   "id": "de293dfb",
   "metadata": {},
   "outputs": [],
   "source": [
    "df['hour'] = df['time'].str.split(':').str[0].astype(int)"
   ]
  },
  {
   "cell_type": "code",
   "execution_count": null,
   "id": "59e43d08",
   "metadata": {},
   "outputs": [],
   "source": [
    "df.drop_duplicates(subset = ['code_com', 'date', 'time'], inplace = True)"
   ]
  },
  {
   "cell_type": "code",
   "execution_count": null,
   "id": "9348038f",
   "metadata": {
    "scrolled": true
   },
   "outputs": [],
   "source": [
    "df.shape"
   ]
  },
  {
   "cell_type": "code",
   "execution_count": null,
   "id": "3b1d2209",
   "metadata": {},
   "outputs": [],
   "source": [
    "df.head()"
   ]
  },
  {
   "cell_type": "markdown",
   "id": "48c43ad2",
   "metadata": {},
   "source": [
    "Share of time windows across communes without any Tor traffic"
   ]
  },
  {
   "cell_type": "code",
   "execution_count": null,
   "id": "e1987b3f",
   "metadata": {},
   "outputs": [],
   "source": [
    "(df['Tor'] == 0).sum()/df.shape[0]"
   ]
  },
  {
   "cell_type": "markdown",
   "id": "08bf5ff3",
   "metadata": {},
   "source": [
    "### Filter out network downtimes"
   ]
  },
  {
   "cell_type": "markdown",
   "id": "5401e392",
   "metadata": {},
   "source": [
    "According to Netmob documentation, some network anomalies due to service interruptions on March 31 and May 12 occurred. Not to distort downstream analysis, we filter out those anomalies -- the large one by date and smaller ones by with traffic to porn sites being zero."
   ]
  },
  {
   "cell_type": "code",
   "execution_count": null,
   "id": "666f3898",
   "metadata": {},
   "outputs": [],
   "source": [
    "df = df[~((df['Web_Adult'] == 0) & ((df['date'] == '20190512') | (df['date'] == '20190331')))]"
   ]
  },
  {
   "cell_type": "code",
   "execution_count": null,
   "id": "e22fe81d",
   "metadata": {},
   "outputs": [],
   "source": [
    "df.shape"
   ]
  },
  {
   "cell_type": "markdown",
   "id": "b0960938",
   "metadata": {},
   "source": [
    "# Calculate child pornography consumption"
   ]
  },
  {
   "cell_type": "code",
   "execution_count": null,
   "id": "60dcbc11",
   "metadata": {},
   "outputs": [],
   "source": [
    "cp_com = (df\n",
    "             .drop(columns=['time', 'date', 'hour'])\n",
    "             .groupby(['cities', 'code_com', 'traffic_dir'])\n",
    "             .sum()\n",
    "             .reset_index()\n",
    "             .copy())"
   ]
  },
  {
   "cell_type": "code",
   "execution_count": null,
   "id": "47699be2",
   "metadata": {},
   "outputs": [],
   "source": [
    "cp_com.head()"
   ]
  },
  {
   "cell_type": "code",
   "execution_count": null,
   "id": "147b56ed",
   "metadata": {},
   "outputs": [],
   "source": [
    "cp_com.shape"
   ]
  },
  {
   "cell_type": "markdown",
   "id": "6ca0a8e1",
   "metadata": {},
   "source": [
    "### Calculate correction factor by correlation time series by commune\n",
    "\n",
    "We define four different correction factors that we then compare against the correlation with sexual violence rates:\n",
    "\n",
    "1) c1 = Pearsons rho\n",
    "2) c2 = Persons rho**2 \n",
    "3) c3 = (Pearsons rho - mean(Pearsons rho) + 1)*c_global\n",
    "4) Spearmans rho\n"
   ]
  },
  {
   "cell_type": "code",
   "execution_count": null,
   "id": "d0a19f7e",
   "metadata": {},
   "outputs": [],
   "source": [
    "df_hour = (df\n",
    "             .drop(columns=['time'])\n",
    "             .groupby(['date', 'hour', 'code_com', 'cities', 'traffic_dir'])\n",
    "             .sum()\n",
    "             .reset_index()\n",
    "             .copy())"
   ]
  },
  {
   "cell_type": "code",
   "execution_count": null,
   "id": "826f3c92",
   "metadata": {},
   "outputs": [],
   "source": [
    "def log_values(x):\n",
    "    return np.log(x)"
   ]
  },
  {
   "cell_type": "code",
   "execution_count": null,
   "id": "fed0402b",
   "metadata": {
    "scrolled": true
   },
   "outputs": [],
   "source": [
    "df_hour.shape"
   ]
  },
  {
   "cell_type": "code",
   "execution_count": null,
   "id": "73bbc2a4",
   "metadata": {},
   "outputs": [],
   "source": [
    "df_hour.head()"
   ]
  },
  {
   "cell_type": "markdown",
   "id": "a7ba93c8",
   "metadata": {},
   "source": [
    "To avoid running into log problems, we replace zeros with tiny numbers."
   ]
  },
  {
   "cell_type": "code",
   "execution_count": null,
   "id": "a8d77263",
   "metadata": {},
   "outputs": [],
   "source": [
    "df_hour['date'] = pd.to_numeric(df_hour['date'])\n",
    "df_hour.loc[df_hour.Tor == 0, 'Tor'] = 0.001\n",
    "df_hour.loc[df_hour.Web_Adult == 0, 'Web_Adult'] = 0.001\n",
    "df_hour.loc[df_hour.YouTube == 0, 'YouTube'] = 0.001"
   ]
  },
  {
   "cell_type": "code",
   "execution_count": null,
   "id": "51aaba24",
   "metadata": {},
   "outputs": [],
   "source": [
    "df_hour['Web_Adult_log'] = df_hour['Web_Adult'].transform(log_values)\n",
    "df_hour['YouTube_log'] = df_hour['YouTube'].transform(log_values)\n",
    "df_hour['Tor_log'] = df_hour['Tor'].transform(log_values)"
   ]
  },
  {
   "cell_type": "markdown",
   "id": "7ce135d8",
   "metadata": {},
   "source": [
    "Filter out network downtimes"
   ]
  },
  {
   "cell_type": "code",
   "execution_count": null,
   "id": "4febf867",
   "metadata": {},
   "outputs": [],
   "source": [
    "df_hour.shape"
   ]
  },
  {
   "cell_type": "code",
   "execution_count": null,
   "id": "119950db",
   "metadata": {},
   "outputs": [],
   "source": [
    "def correlation_coefficient_log_pear(x):\n",
    "    return x['Web_Adult_log'].corr(x['Tor_log'], method='pearson')\n",
    "def correlation_coefficient_log_spear(x):\n",
    "    return x['Web_Adult_log'].corr(x['Tor_log'], method='spearman')"
   ]
  },
  {
   "cell_type": "code",
   "execution_count": null,
   "id": "1ad6c53c",
   "metadata": {},
   "outputs": [],
   "source": [
    "correction_factor = (pd.DataFrame(df_hour\n",
    "                  .groupby('code_com')\n",
    "                  .apply(correlation_coefficient_log_pear), columns=['c']\n",
    "                  )\n",
    "      .reset_index())"
   ]
  },
  {
   "cell_type": "markdown",
   "id": "d9fc9068",
   "metadata": {},
   "source": [
    "The correlation coefficient captures Tor correlation with any type of porn consumption. Thus, we multiply by the correction factor derived from the DUTA dataset -> 105/253 and the share of Tor traffic that goes to onion websites -> 0.011"
   ]
  },
  {
   "cell_type": "code",
   "execution_count": null,
   "id": "4e806259",
   "metadata": {},
   "outputs": [],
   "source": [
    "correction_factor['c'] = correction_factor['c']*(105/253)*0.011"
   ]
  },
  {
   "cell_type": "markdown",
   "id": "86ae9e8d",
   "metadata": {},
   "source": [
    "How many correlation coefficients are smaller than 0?"
   ]
  },
  {
   "cell_type": "code",
   "execution_count": null,
   "id": "12aedea8",
   "metadata": {},
   "outputs": [],
   "source": [
    "correction_factor.loc[correction_factor.c < 0, 'c'].size"
   ]
  },
  {
   "cell_type": "code",
   "execution_count": null,
   "id": "b5c1f3f7",
   "metadata": {},
   "outputs": [],
   "source": [
    "correction_factor.loc[correction_factor.c < 0, 'c'] = 0.00001"
   ]
  },
  {
   "cell_type": "markdown",
   "id": "c29d24da",
   "metadata": {},
   "source": [
    "Merge to main table"
   ]
  },
  {
   "cell_type": "code",
   "execution_count": null,
   "id": "e821daf9-0767-402f-a126-82d55f20a4d6",
   "metadata": {},
   "outputs": [],
   "source": [
    "cp_com = cp_com.merge(correction_factor, on = 'code_com', how = 'left')"
   ]
  },
  {
   "cell_type": "markdown",
   "id": "84caa5bb",
   "metadata": {},
   "source": [
    "### Add population data"
   ]
  },
  {
   "cell_type": "code",
   "execution_count": null,
   "id": "8dad20d9",
   "metadata": {},
   "outputs": [],
   "source": [
    "cp_com = cp_com.merge(map_df[['code_com', 'pop']].drop_duplicates('code_com'), on = 'code_com', how = 'left')"
   ]
  },
  {
   "cell_type": "code",
   "execution_count": null,
   "id": "5882985d",
   "metadata": {},
   "outputs": [],
   "source": [
    "cp_com.head()"
   ]
  },
  {
   "cell_type": "markdown",
   "id": "0b488afd",
   "metadata": {},
   "source": [
    "### Assign global factor representing the share of Tor traffic to darknet websites that are linked to pornographic content\n",
    "\n",
    "- Source of tor_to_darknet_share: \n",
    "    - Lower bound: 0.011 https://metrics.torproject.org/bandwidth.html?start=2017-01-01&end=2019-12-31\n",
    "    - Middle bound: 0.034 https://blog.torproject.org/some-statistics-about-onions/\n",
    "    - Upper bound: 0.078 https://www.pnas.org/doi/10.1073/pnas.2011893117#\n",
    "- Source of Pornography_in_darknet_share: https://arxiv.org/pdf/2305.08596.pdf (Table 9)\n",
    "- Source of Child_pornography_to_pornography_in_darknet_share: DUTA dataset (share of sub-category child porn in category porn)"
   ]
  },
  {
   "cell_type": "code",
   "execution_count": null,
   "id": "f530f200",
   "metadata": {},
   "outputs": [],
   "source": [
    "cp_com['Tor_to_darknet_share'] = 0.011 #0.023 #0.977 or alternatively 0.078 from PNAS paper\n",
    "cp_com['Pornography_in_darknet_URL_share'] = 2267628/5437248\n",
    "cp_com['Child_pornography_to_pornography_in_darknet_URL_share'] = 105/253"
   ]
  },
  {
   "cell_type": "code",
   "execution_count": null,
   "id": "7b504a86",
   "metadata": {},
   "outputs": [],
   "source": [
    "pd.unique(cp_com['Tor_to_darknet_share'] * cp_com['Pornography_in_darknet_URL_share'] * cp_com['Child_pornography_to_pornography_in_darknet_URL_share'])*100"
   ]
  },
  {
   "cell_type": "markdown",
   "id": "0af07e01",
   "metadata": {},
   "source": [
    "### Calculate consumption estimate"
   ]
  },
  {
   "cell_type": "code",
   "execution_count": null,
   "id": "ae812644",
   "metadata": {},
   "outputs": [],
   "source": [
    "cp_com['cpc'] = cp_com['Tor'] * cp_com['c']\n",
    "cp_com['cpc_per_1000'] = cp_com['Tor'] * cp_com['c'] * 1000 / cp_com['pop']\n",
    "\n",
    "# Same in log\n",
    "cp_com['log_cpc'] = np.log(cp_com['Tor'] * cp_com['c'])\n",
    "cp_com['log_cpc_per_1000'] = np.log(cp_com['Tor'] * cp_com['c']) * 1000 / cp_com['pop']    "
   ]
  },
  {
   "cell_type": "markdown",
   "id": "833e22d0",
   "metadata": {},
   "source": [
    "Get other web service traffic also per 1000"
   ]
  },
  {
   "cell_type": "code",
   "execution_count": null,
   "id": "0501a273",
   "metadata": {},
   "outputs": [],
   "source": [
    "cp_com['yt_per_1000'] = cp_com['YouTube'] / cp_com['pop'] * 1000\n",
    "cp_com['wa_per_1000'] = cp_com['Web_Adult'] / cp_com['pop'] * 1000\n",
    "cp_com['tor_per_1000'] = cp_com['Tor'] / cp_com['pop'] * 1000"
   ]
  },
  {
   "cell_type": "code",
   "execution_count": null,
   "id": "f680c5d0",
   "metadata": {},
   "outputs": [],
   "source": [
    "cp_com['log_yt_per_1000'] = np.log(cp_com['YouTube']) / cp_com['pop'] * 1000\n",
    "cp_com['log_wa_per_1000'] = np.log(cp_com['Web_Adult']) / cp_com['pop'] * 1000\n",
    "cp_com['log_tor_per_1000'] = np.log(cp_com['Tor']) / cp_com['pop'] * 1000"
   ]
  },
  {
   "cell_type": "code",
   "execution_count": null,
   "id": "e4f6aab2",
   "metadata": {},
   "outputs": [],
   "source": [
    "cp_com.head()"
   ]
  },
  {
   "cell_type": "code",
   "execution_count": null,
   "id": "74bd66f8",
   "metadata": {},
   "outputs": [],
   "source": [
    "cp_com.shape"
   ]
  },
  {
   "cell_type": "markdown",
   "id": "222b79b5",
   "metadata": {},
   "source": [
    "### Testing for correlations with commune-level sexual violence rates"
   ]
  },
  {
   "cell_type": "markdown",
   "id": "9e8a11cc",
   "metadata": {},
   "source": [
    "https://www.data.gouv.fr/fr/datasets/bases-statistiques-communale-et-departementale-de-la-delinquance-enregistree-par-la-police-et-la-gendarmerie-nationales/\n",
    "\n",
    "They provide data for some communes directly and for those that have less than 5 cases reported in 3 consecutive years, they provide the department-level average per year."
   ]
  },
  {
   "cell_type": "code",
   "execution_count": null,
   "id": "d180467e",
   "metadata": {},
   "outputs": [],
   "source": [
    "crime = pd.read_csv('../external_data/donnee-data.gouv-2022-geographie2023-produit-le2023-07-17.csv', delimiter=';', decimal=\",\", dtype={'CODGEO_2023': str, 'tauxpourmille': float, 'complementinfotaux': float})"
   ]
  },
  {
   "cell_type": "code",
   "execution_count": null,
   "id": "4f383844",
   "metadata": {},
   "outputs": [],
   "source": [
    "crime = (crime\n",
    "    .query(\"classe == 'Violences sexuelles'\")\n",
    "    .query(\"annee == [17, 18, 19, 20, 21]\")\n",
    "    .rename(columns={'CODGEO_2023':'code_com',\n",
    "                     'tauxpourmille':'sv_per_1000_com',\n",
    "                     'complementinfotaux':'sv_per_1000_est',\n",
    "                    'annee':'date',\n",
    "                    'classe':'indicator'\n",
    "                    })[['code_com', 'sv_per_1000_com', 'sv_per_1000_est', 'date', 'indicator']]\n",
    ")"
   ]
  },
  {
   "cell_type": "code",
   "execution_count": null,
   "id": "80d715e7",
   "metadata": {},
   "outputs": [],
   "source": [
    "crime['sv_per_1000'] = crime['sv_per_1000_com'].fillna(crime['sv_per_1000_est'])"
   ]
  },
  {
   "cell_type": "code",
   "execution_count": null,
   "id": "6b66e2bf",
   "metadata": {},
   "outputs": [],
   "source": [
    "crime.head()"
   ]
  },
  {
   "cell_type": "markdown",
   "id": "04e94f08",
   "metadata": {},
   "source": [
    "Calculate rate for 2019 and a 5-year average"
   ]
  },
  {
   "cell_type": "code",
   "execution_count": null,
   "id": "cfb3d8d3",
   "metadata": {},
   "outputs": [],
   "source": [
    "df_crime = (crime\n",
    " .query(\"date == 19\")\n",
    " .groupby(['code_com'])['sv_per_1000'].mean()\n",
    " .reset_index()\n",
    " .rename(columns = {'sv_per_1000':'sv_19'})\n",
    " .merge(crime.query(\"date == [17, 18, 19, 20, 21]\")\n",
    "        .groupby(['code_com'])['sv_per_1000'].mean()\n",
    "        .reset_index()\n",
    "        .rename(columns = {'sv_per_1000':'sv_17_21'}))\n",
    " .merge(crime.query(\"date == [19]\")\n",
    "        .groupby(['code_com'])['sv_per_1000_com'].mean()\n",
    "        .reset_index()\n",
    "        .rename(columns = {'sv_per_1000_com':'sv_com_19'}))\n",
    " .merge(crime.query(\"date == [17, 18, 19, 20, 21]\")\n",
    "        .groupby(['code_com'])['sv_per_1000_com'].mean()\n",
    "        .reset_index()\n",
    "        .rename(columns = {'sv_per_1000_com':'sv_com_17_21'})))"
   ]
  },
  {
   "cell_type": "code",
   "execution_count": null,
   "id": "22755e8f",
   "metadata": {},
   "outputs": [],
   "source": [
    "df_crime.head()"
   ]
  },
  {
   "cell_type": "code",
   "execution_count": null,
   "id": "119aa88a",
   "metadata": {},
   "outputs": [],
   "source": [
    "crime.head()"
   ]
  },
  {
   "cell_type": "markdown",
   "id": "80614448",
   "metadata": {},
   "source": [
    "Merge with cpc estimates"
   ]
  },
  {
   "cell_type": "code",
   "execution_count": null,
   "id": "074345fd",
   "metadata": {},
   "outputs": [],
   "source": [
    "cp_com = cp_com.merge(df_crime, on = 'code_com', how = 'left').drop_duplicates(['code_com'])"
   ]
  },
  {
   "cell_type": "code",
   "execution_count": null,
   "id": "4a820c50",
   "metadata": {
    "scrolled": true
   },
   "outputs": [],
   "source": [
    "cp_com.head()"
   ]
  },
  {
   "cell_type": "code",
   "execution_count": null,
   "id": "3e3fab1c",
   "metadata": {},
   "outputs": [],
   "source": [
    "cp_com.shape"
   ]
  },
  {
   "cell_type": "code",
   "execution_count": null,
   "id": "3cc98700",
   "metadata": {},
   "outputs": [],
   "source": [
    "cp_com.to_csv(\"../midsave/cpc_com.csv\", index=False)"
   ]
  },
  {
   "cell_type": "markdown",
   "id": "5bb0f322",
   "metadata": {},
   "source": [
    "### Getting Spearman's rho and test for different from null"
   ]
  },
  {
   "cell_type": "code",
   "execution_count": null,
   "id": "e4038a05",
   "metadata": {},
   "outputs": [],
   "source": [
    "test = (cp_com[['yt_per_1000', 'wa_per_1000', 'tor_per_1000', \n",
    "                'cpc_per_1000', 'sv_17_21', 'sv_com_17_21']]\n",
    "        .dropna(subset=['sv_com_17_21']))"
   ]
  },
  {
   "cell_type": "code",
   "execution_count": null,
   "id": "28f35f31",
   "metadata": {},
   "outputs": [],
   "source": [
    "test['yt_per_1000'] = np.log(test['yt_per_1000'])\n",
    "test['wa_per_1000'] = np.log(test['wa_per_1000'])\n",
    "test['tor_per_1000'] = np.log(test['tor_per_1000'])\n",
    "test['cpc_per_1000'] = np.log(test['cpc_per_1000'])"
   ]
  },
  {
   "cell_type": "code",
   "execution_count": null,
   "id": "0f16c7d8",
   "metadata": {},
   "outputs": [],
   "source": [
    "test.shape"
   ]
  },
  {
   "cell_type": "markdown",
   "id": "afb72f00",
   "metadata": {},
   "source": [
    "Get p-values"
   ]
  },
  {
   "cell_type": "code",
   "execution_count": null,
   "id": "4e4006ff",
   "metadata": {},
   "outputs": [],
   "source": [
    "spearmanr(test['yt_per_1000'], test['sv_com_17_21'])"
   ]
  },
  {
   "cell_type": "code",
   "execution_count": null,
   "id": "b24b151f",
   "metadata": {},
   "outputs": [],
   "source": [
    "spearmanr(test['wa_per_1000'], test['sv_com_17_21'])"
   ]
  },
  {
   "cell_type": "code",
   "execution_count": null,
   "id": "832202b7",
   "metadata": {},
   "outputs": [],
   "source": [
    "spearmanr(test['tor_per_1000'], test['sv_com_17_21'])"
   ]
  },
  {
   "cell_type": "code",
   "execution_count": null,
   "id": "f2043220",
   "metadata": {},
   "outputs": [],
   "source": [
    "spearmanr(test['cpc_per_1000'], test['sv_com_17_21'])"
   ]
  },
  {
   "cell_type": "code",
   "execution_count": null,
   "id": "a00b6490",
   "metadata": {},
   "outputs": [],
   "source": [
    "spearmanr(test['yt_per_1000'], test['cpc_per_1000'])"
   ]
  },
  {
   "cell_type": "code",
   "execution_count": null,
   "id": "6ae26886",
   "metadata": {},
   "outputs": [],
   "source": [
    "def dependent_corr_test(r_ab, r_ac, r_bc, n):\n",
    "    \"\"\"\n",
    "    Perform a paired-samples test for dependent correlation coefficients.\n",
    "    \n",
    "    Arguments:\n",
    "    r_ab -- correlation coefficient between variable A and B\n",
    "    r_ac -- correlation coefficient between variable A and C\n",
    "    r_bc -- correlation coefficient between variable B and C\n",
    "    n -- sample size\n",
    "    \n",
    "    Returns:\n",
    "    t_value -- t-value\n",
    "    p_value -- p-value\n",
    "    \"\"\"\n",
    "    \n",
    "    r_diff = r_ab - r_ac\n",
    "    se_diff = np.sqrt((1 - r_bc**2) / (n - 3))\n",
    "    \n",
    "    t_value = r_diff / se_diff\n",
    "    p_value = 2 * (1 - t.cdf(abs(t_value), df=n-2))\n",
    "    \n",
    "    return t_value, p_value"
   ]
  },
  {
   "cell_type": "markdown",
   "id": "c5f22ec4",
   "metadata": {},
   "source": [
    "CPC-YT"
   ]
  },
  {
   "cell_type": "code",
   "execution_count": null,
   "id": "c84a5672",
   "metadata": {},
   "outputs": [],
   "source": [
    "r_ab = spearmanr(test['yt_per_1000'], test['sv_com_17_21'])[0]\n",
    "r_ac = spearmanr(test['cpc_per_1000'], test['sv_com_17_21'])[0]\n",
    "r_bc = spearmanr(test['yt_per_1000'], test['cpc_per_1000'])[0]\n",
    "n = 731\n",
    "\n",
    "t_value, p_value = dependent_corr_test(r_ab, r_ac, r_bc, n)\n",
    "print(\"t-value:\", t_value)\n",
    "print(\"p-value:\", p_value)"
   ]
  },
  {
   "cell_type": "markdown",
   "id": "738949e2",
   "metadata": {},
   "source": [
    "CPC-WA"
   ]
  },
  {
   "cell_type": "code",
   "execution_count": null,
   "id": "789626da",
   "metadata": {},
   "outputs": [],
   "source": [
    "r_ab = spearmanr(test['wa_per_1000'], test['sv_com_17_21'])[0]\n",
    "r_ac = spearmanr(test['cpc_per_1000'], test['sv_com_17_21'])[0]\n",
    "r_bc = spearmanr(test['cpc_per_1000'], test['wa_per_1000'])[0]\n",
    "n = 731\n",
    "\n",
    "t_value, p_value = dependent_corr_test(r_ab, r_ac, r_bc, n)\n",
    "print(\"t-value:\", t_value)\n",
    "print(\"p-value:\", p_value)"
   ]
  },
  {
   "cell_type": "markdown",
   "id": "6ee9f908",
   "metadata": {},
   "source": [
    "CPC-Tor"
   ]
  },
  {
   "cell_type": "code",
   "execution_count": null,
   "id": "e4486cbe",
   "metadata": {},
   "outputs": [],
   "source": [
    "r_ab = spearmanr(test['tor_per_1000'], test['sv_com_17_21'])[0]\n",
    "r_ac = spearmanr(test['cpc_per_1000'], test['sv_com_17_21'])[0]\n",
    "r_bc = spearmanr(test['cpc_per_1000'], test['tor_per_1000'])[0]\n",
    "n = 731\n",
    "\n",
    "t_value, p_value = dependent_corr_test(r_ab, r_ac, r_bc, n)\n",
    "print(\"t-value:\", t_value)\n",
    "print(\"p-value:\", p_value)"
   ]
  },
  {
   "cell_type": "code",
   "execution_count": null,
   "id": "dc2731db",
   "metadata": {},
   "outputs": [],
   "source": [
    "dependent_corr_test(r_ab, r_ac, r_bc, n)"
   ]
  },
  {
   "cell_type": "markdown",
   "id": "d9e3089f",
   "metadata": {},
   "source": [
    "# Generating Heatmap data"
   ]
  },
  {
   "cell_type": "code",
   "execution_count": null,
   "id": "006a8345",
   "metadata": {},
   "outputs": [],
   "source": [
    "df_hour = df_hour.merge(cp_com[['code_com', 'c']], on = ['code_com'], how = 'left')"
   ]
  },
  {
   "cell_type": "code",
   "execution_count": null,
   "id": "91dd9d1f",
   "metadata": {},
   "outputs": [],
   "source": [
    "df_hour['Tor_scaled'] = df_hour['Tor'] * df_hour['c']"
   ]
  },
  {
   "cell_type": "markdown",
   "id": "48158f00",
   "metadata": {},
   "source": [
    "#### For all areas"
   ]
  },
  {
   "cell_type": "code",
   "execution_count": null,
   "id": "224246de",
   "metadata": {},
   "outputs": [],
   "source": [
    "df_hour.head(1)"
   ]
  },
  {
   "cell_type": "code",
   "execution_count": null,
   "id": "8ba0a783",
   "metadata": {},
   "outputs": [],
   "source": [
    "df_hour['date'] = pd.to_datetime(df_hour['date'], format='%Y%m%d')"
   ]
  },
  {
   "cell_type": "code",
   "execution_count": null,
   "id": "7c801575",
   "metadata": {},
   "outputs": [],
   "source": [
    "df_hour['day'] = df_hour['date'].dt.strftime('%A')"
   ]
  },
  {
   "cell_type": "code",
   "execution_count": null,
   "id": "53aa28e9",
   "metadata": {},
   "outputs": [],
   "source": [
    "df_heat = (df_hour\n",
    "           .rename(columns={'hour': 'Hour', 'day': 'Day'})\n",
    "           .groupby(['Day', 'Hour'])[['Tor_scaled','Web_Adult', 'YouTube']]\n",
    "                        .sum()\n",
    "                        .reset_index())"
   ]
  },
  {
   "cell_type": "code",
   "execution_count": null,
   "id": "05db509a",
   "metadata": {},
   "outputs": [],
   "source": [
    "df_heat.to_csv(\"../midsave/heatmap.csv\", index=False)"
   ]
  },
  {
   "cell_type": "markdown",
   "id": "7e9b6d3b",
   "metadata": {},
   "source": [
    "#### For top 10 highest cpc areas"
   ]
  },
  {
   "cell_type": "code",
   "execution_count": null,
   "id": "26676a0c",
   "metadata": {},
   "outputs": [],
   "source": [
    "cp_com.sort_values(by='cpc_per_1000', ascending=False)"
   ]
  },
  {
   "cell_type": "code",
   "execution_count": null,
   "id": "187e21da",
   "metadata": {},
   "outputs": [],
   "source": [
    "cp_com.sort_values(by='cpc_per_1000', ascending=False, inplace=True)"
   ]
  },
  {
   "cell_type": "code",
   "execution_count": null,
   "id": "89165138",
   "metadata": {},
   "outputs": [],
   "source": [
    "df_heat_10 = (df_hour\n",
    "           .query('code_com in @cp_com.code_com.head(10)')\n",
    "           .rename(columns={'hour': 'Hour', 'day': 'Day'})\n",
    "           .groupby(['Day', 'Hour'])[['Tor_scaled','Web_Adult', 'YouTube']]\n",
    "                        .sum()\n",
    "                        .reset_index())\n",
    "df_heat_10.to_csv(\"../midsave/heatmap_10.csv\", index=False)"
   ]
  },
  {
   "cell_type": "markdown",
   "id": "0bdddd21",
   "metadata": {},
   "source": [
    "#### Most CPC_per_1000 area"
   ]
  },
  {
   "cell_type": "markdown",
   "id": "14207416",
   "metadata": {},
   "source": [
    " Number 1"
   ]
  },
  {
   "cell_type": "code",
   "execution_count": null,
   "id": "12dbebf4",
   "metadata": {},
   "outputs": [],
   "source": [
    "cp_com['code_com'].iloc[0:1].tolist()"
   ]
  },
  {
   "cell_type": "code",
   "execution_count": null,
   "id": "93bdf50d",
   "metadata": {},
   "outputs": [],
   "source": [
    "df_heat_1 = df_hour[df_hour['code_com'].isin(cp_com['code_com'].iloc[0:1].tolist())]\n",
    "\n",
    "df_heat_1 = (df_heat_1\n",
    "             .rename(columns={'hour': 'Hour', 'day': 'Day'})\n",
    "             .groupby(['Day', 'Hour'])[['Tor_scaled','Web_Adult', 'YouTube']]\n",
    "             .sum()\n",
    "             .reset_index())\n",
    "df_heat_1.to_csv(\"../midsave/heatmap_1_31352.csv\", index=False)"
   ]
  },
  {
   "cell_type": "markdown",
   "id": "0f797daf",
   "metadata": {},
   "source": [
    "Number 2"
   ]
  },
  {
   "cell_type": "code",
   "execution_count": null,
   "id": "923361d7",
   "metadata": {},
   "outputs": [],
   "source": [
    "cp_com['code_com'].iloc[1:2].tolist()"
   ]
  },
  {
   "cell_type": "code",
   "execution_count": null,
   "id": "1fa110b0",
   "metadata": {},
   "outputs": [],
   "source": [
    "df_heat_2 = df_hour[df_hour['code_com'].isin(cp_com['code_com'].iloc[1:2].tolist())]\n",
    "\n",
    "df_heat_2 = (df_heat_2\n",
    "             .rename(columns={'hour': 'Hour', 'day': 'Day'})\n",
    "             .groupby(['Day', 'Hour'])[['Tor_scaled','Web_Adult', 'YouTube']]\n",
    "             .sum()\n",
    "             .reset_index())\n",
    "df_heat_2.to_csv(\"../midsave/heatmap_2_21192.csv\", index=False)"
   ]
  },
  {
   "cell_type": "markdown",
   "id": "0ec80df8",
   "metadata": {},
   "source": [
    "Number 3"
   ]
  },
  {
   "cell_type": "code",
   "execution_count": null,
   "id": "23e0807d",
   "metadata": {},
   "outputs": [],
   "source": [
    "cp_com['code_com'].iloc[2:3].tolist()"
   ]
  },
  {
   "cell_type": "code",
   "execution_count": null,
   "id": "2243bab1",
   "metadata": {},
   "outputs": [],
   "source": [
    "df_heat_3 = df_hour[df_hour['code_com'].isin(cp_com['code_com'].iloc[2:3].tolist())]\n",
    "\n",
    "df_heat_3 = (df_heat_3\n",
    "             .rename(columns={'hour': 'Hour', 'day': 'Day'})\n",
    "             .groupby(['Day', 'Hour'])[['Tor_scaled','Web_Adult', 'YouTube']]\n",
    "             .sum()\n",
    "             .reset_index())\n",
    "df_heat_3.to_csv(\"../midsave/heatmap_3_45072.csv\", index=False)"
   ]
  }
 ],
 "metadata": {
  "kernelspec": {
   "display_name": "Python 3 (ipykernel)",
   "language": "python",
   "name": "python3"
  },
  "language_info": {
   "codemirror_mode": {
    "name": "ipython",
    "version": 3
   },
   "file_extension": ".py",
   "mimetype": "text/x-python",
   "name": "python",
   "nbconvert_exporter": "python",
   "pygments_lexer": "ipython3",
   "version": "3.10.9"
  },
  "varInspector": {
   "cols": {
    "lenName": 16,
    "lenType": 16,
    "lenVar": 40
   },
   "kernels_config": {
    "python": {
     "delete_cmd_postfix": "",
     "delete_cmd_prefix": "del ",
     "library": "var_list.py",
     "varRefreshCmd": "print(var_dic_list())"
    },
    "r": {
     "delete_cmd_postfix": ") ",
     "delete_cmd_prefix": "rm(",
     "library": "var_list.r",
     "varRefreshCmd": "cat(var_dic_list()) "
    }
   },
   "types_to_exclude": [
    "module",
    "function",
    "builtin_function_or_method",
    "instance",
    "_Feature"
   ],
   "window_display": false
  }
 },
 "nbformat": 4,
 "nbformat_minor": 5
}
