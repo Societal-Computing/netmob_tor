{
 "cells": [
  {
   "cell_type": "code",
   "execution_count": null,
   "id": "785f4e07",
   "metadata": {},
   "outputs": [],
   "source": [
    "import geopandas as gpd\n",
    "import pandas as pd\n",
    "import numpy as np"
   ]
  },
  {
   "cell_type": "markdown",
   "id": "e47d563a",
   "metadata": {},
   "source": [
    "Read relevant data"
   ]
  },
  {
   "cell_type": "code",
   "execution_count": null,
   "id": "f48e2660",
   "metadata": {},
   "outputs": [],
   "source": [
    "cpc = pd.read_csv(\"../midsave/cpc_com.csv\", dtype={'code_com': str})"
   ]
  },
  {
   "cell_type": "code",
   "execution_count": null,
   "id": "4c7d981e",
   "metadata": {},
   "outputs": [],
   "source": [
    "cpc.shape"
   ]
  },
  {
   "cell_type": "code",
   "execution_count": null,
   "id": "a70a8121",
   "metadata": {},
   "outputs": [],
   "source": [
    "map_df = gpd.read_file(\"../midsave/map_crime.gpkg\")"
   ]
  },
  {
   "cell_type": "code",
   "execution_count": null,
   "id": "57935353",
   "metadata": {},
   "outputs": [],
   "source": [
    "map_df.shape"
   ]
  },
  {
   "cell_type": "code",
   "execution_count": null,
   "id": "1285bf9a",
   "metadata": {},
   "outputs": [],
   "source": [
    "overture_gdf = gpd.read_file(\"../midsave/overture.gpkg\").to_crs(map_df.crs)"
   ]
  },
  {
   "cell_type": "code",
   "execution_count": null,
   "id": "ffbe0880",
   "metadata": {},
   "outputs": [],
   "source": [
    "overture_gdf.shape"
   ]
  },
  {
   "cell_type": "markdown",
   "id": "edd46dea",
   "metadata": {},
   "source": [
    "Define categories of interest"
   ]
  },
  {
   "cell_type": "code",
   "execution_count": null,
   "id": "b300148d",
   "metadata": {},
   "outputs": [],
   "source": [
    "categories_of_interest = ['school', 'church_cathedral', 'mosque', 'adult_entertainment', \n",
    "                          'amateur_sports_team', 'religious_organization']"
   ]
  },
  {
   "cell_type": "markdown",
   "id": "8c72126d",
   "metadata": {},
   "source": [
    "Assign POIs to communes and aggregate number of categories per 1000 inhabitants"
   ]
  },
  {
   "cell_type": "code",
   "execution_count": null,
   "id": "2ba0587a",
   "metadata": {},
   "outputs": [],
   "source": [
    "poi = (gpd.sjoin(overture_gdf, map_df[['code_com', 'geometry']], predicate='within', how='left')\n",
    "        .drop(columns = ['index_right'])\n",
    "        .dropna(subset = ['code_com'])\n",
    "        .query('category in @categories_of_interest')\n",
    "        .pivot_table(index='code_com', columns='category', aggfunc='size', fill_value=0)\n",
    "        .reset_index()\n",
    "        .merge(cpc[['code_com', 'pop']], on = 'code_com', how = 'right')\n",
    "        .fillna(0))"
   ]
  },
  {
   "cell_type": "code",
   "execution_count": null,
   "id": "03ca22f3",
   "metadata": {},
   "outputs": [],
   "source": [
    "for col in categories_of_interest:\n",
    "    poi[col] = poi[col] / poi['pop'] * 1000"
   ]
  },
  {
   "cell_type": "code",
   "execution_count": null,
   "id": "65f1c096",
   "metadata": {},
   "outputs": [],
   "source": [
    "poi.head(1)"
   ]
  },
  {
   "cell_type": "code",
   "execution_count": null,
   "id": "f83f1b14",
   "metadata": {
    "scrolled": true
   },
   "outputs": [],
   "source": [
    "poi.drop(columns = ['pop'], inplace = True)"
   ]
  },
  {
   "cell_type": "code",
   "execution_count": null,
   "id": "21f285fa",
   "metadata": {},
   "outputs": [],
   "source": [
    "poi.to_csv(\"../midsave/poi.csv\", index=False)"
   ]
  }
 ],
 "metadata": {
  "kernelspec": {
   "display_name": "Python 3 (ipykernel)",
   "language": "python",
   "name": "python3"
  },
  "language_info": {
   "codemirror_mode": {
    "name": "ipython",
    "version": 3
   },
   "file_extension": ".py",
   "mimetype": "text/x-python",
   "name": "python",
   "nbconvert_exporter": "python",
   "pygments_lexer": "ipython3",
   "version": "3.10.9"
  },
  "varInspector": {
   "cols": {
    "lenName": 16,
    "lenType": 16,
    "lenVar": 40
   },
   "kernels_config": {
    "python": {
     "delete_cmd_postfix": "",
     "delete_cmd_prefix": "del ",
     "library": "var_list.py",
     "varRefreshCmd": "print(var_dic_list())"
    },
    "r": {
     "delete_cmd_postfix": ") ",
     "delete_cmd_prefix": "rm(",
     "library": "var_list.r",
     "varRefreshCmd": "cat(var_dic_list()) "
    }
   },
   "types_to_exclude": [
    "module",
    "function",
    "builtin_function_or_method",
    "instance",
    "_Feature"
   ],
   "window_display": false
  }
 },
 "nbformat": 4,
 "nbformat_minor": 5
}
