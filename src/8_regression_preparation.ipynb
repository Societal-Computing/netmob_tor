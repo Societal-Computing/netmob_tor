{
 "cells": [
  {
   "cell_type": "code",
   "execution_count": null,
   "id": "9803eb82",
   "metadata": {},
   "outputs": [],
   "source": [
    "import pandas as pd\n",
    "import numpy as np\n",
    "import statsmodels.api as sm"
   ]
  },
  {
   "cell_type": "code",
   "execution_count": null,
   "id": "631fb6a5",
   "metadata": {},
   "outputs": [],
   "source": [
    "df_cpc_com = pd.read_csv('../midsave/cpc_com.csv', dtype={'code_com': str})\n",
    "df_xwalk = pd.read_csv('../midsave/xwalk.csv', dtype={'code_com': str, 'code_epci': str, 'code_dep': str})\n",
    "df_commune = pd.read_excel('../external_data/commune_level_demographic_data_2.xlsx', dtype={'code_com': str}).replace(to_replace=r'N/A - résultat non disponible', value=np.nan, regex=True)\n",
    "df_inter_com = pd.read_excel('../external_data/inter_communalite_demographic_data_2.xlsx', dtype={'code_epci': str}).replace(to_replace=r'N/A - résultat non disponible', value=np.nan, regex=True)\n",
    "df_department = pd.read_excel('../external_data/department_level_demographic_data_2.xlsx', dtype={'code_dept': str}).rename(columns = {'code_dept':'code_dep'}).replace(to_replace=r'N/A - résultat non disponible', value=np.nan, regex=True)\n",
    "df_political = pd.read_csv('../external_data/presidential_elections_reformatted.csv', delimiter=';', dtype={'code_com': str})\n",
    "df_poi = pd.read_csv('../midsave/poi.csv', dtype={'code_com': str})\n",
    "df_gtrends = pd.read_csv('../midsave/gtrends_dep.csv', dtype={'code_dep': str})"
   ]
  },
  {
   "cell_type": "code",
   "execution_count": null,
   "id": "3d7908ae",
   "metadata": {},
   "outputs": [],
   "source": [
    "df_cpc_com.head()"
   ]
  },
  {
   "cell_type": "code",
   "execution_count": null,
   "id": "70041c55",
   "metadata": {},
   "outputs": [],
   "source": [
    "df_xwalk.head()"
   ]
  },
  {
   "cell_type": "code",
   "execution_count": null,
   "id": "3e346290",
   "metadata": {},
   "outputs": [],
   "source": [
    "df_commune.head()"
   ]
  },
  {
   "cell_type": "code",
   "execution_count": null,
   "id": "049b8b2d",
   "metadata": {},
   "outputs": [],
   "source": [
    "df_inter_com.head()"
   ]
  },
  {
   "cell_type": "code",
   "execution_count": null,
   "id": "7c3802a5",
   "metadata": {},
   "outputs": [],
   "source": [
    "df_department.head()"
   ]
  },
  {
   "cell_type": "code",
   "execution_count": null,
   "id": "364cc1d3",
   "metadata": {},
   "outputs": [],
   "source": [
    "df_political.head()"
   ]
  },
  {
   "cell_type": "markdown",
   "id": "ddeebaef",
   "metadata": {},
   "source": [
    "Harmonize coding schemes"
   ]
  },
  {
   "cell_type": "code",
   "execution_count": null,
   "id": "0d2c94b9",
   "metadata": {},
   "outputs": [],
   "source": [
    "dept_to_remove = ['2A', '2B', 'ZA', 'ZB', 'ZC', 'ZD', 'ZM', 'ZN',\n",
    "       'ZP', 'ZS', 'ZW', 'ZX', 'ZZ']\n",
    "\n",
    "df_political = df_political[~(df_political['code_dept'].isin(dept_to_remove))]\n",
    "\n",
    "df_political['code_dept'] = df_political['code_dept'].astype(int) + 100\n",
    "df_political['code_com'] = df_political['code_com'].astype(int) + 1000\n",
    "\n",
    "df_political['code_dept'] = df_political['code_dept'].astype(str).str[1:]\n",
    "df_political['code_com'] = df_political['code_com'].astype(str).str[1:]"
   ]
  },
  {
   "cell_type": "code",
   "execution_count": null,
   "id": "651068dd",
   "metadata": {},
   "outputs": [],
   "source": [
    "df_political['code_com'] = df_political['code_dept'] + df_political['code_com']"
   ]
  },
  {
   "cell_type": "code",
   "execution_count": null,
   "id": "d981eb2a",
   "metadata": {},
   "outputs": [],
   "source": [
    "df_political.head()"
   ]
  },
  {
   "cell_type": "code",
   "execution_count": null,
   "id": "02c034d5",
   "metadata": {},
   "outputs": [],
   "source": [
    "df_poi.head()"
   ]
  },
  {
   "cell_type": "code",
   "execution_count": null,
   "id": "8235579e",
   "metadata": {},
   "outputs": [],
   "source": [
    "df_gtrends.head()"
   ]
  },
  {
   "cell_type": "code",
   "execution_count": null,
   "id": "5bdac203",
   "metadata": {},
   "outputs": [],
   "source": [
    "df = (df_cpc_com[['code_com', \n",
    "                'log_cpc_per_1000', 'log_yt_per_1000', 'log_wa_per_1000', 'log_tor_per_1000', \n",
    "                'cpc_per_1000', 'yt_per_1000', 'wa_per_1000', 'tor_per_1000', \n",
    "                'sv_17_21', 'sv_com_17_21']]\n",
    "      .merge(df_xwalk[['code_com', 'code_epci', 'code_dep', 'code_reg']].drop_duplicates(), on = 'code_com', how = 'left')\n",
    "      .merge(df_commune[['code_com', 'Densité de population (historique depuis 1876) 2020', 'Part des pers. de 15 ans ou + célibataires 2020', 'Usage de stupéfiants (taux) 2022']], on = 'code_com', how = 'left')\n",
    "      .merge(df_inter_com[['code_epci', 'Taux de pauvreté 2020']], on = 'code_epci', how = 'left')\n",
    "      .merge(df_department[['code_dep', 'Taux de chômage annuel moyen 2022']], on = 'code_dep', how = 'left')\n",
    "      .merge(df_political[['code_com', '% Exp/Ins', '% Voix/Ins_lepen', '% Voix/Ins_macron']], on = 'code_com', how = 'left')\n",
    "      .merge(df_poi, on = 'code_com', how = 'left')\n",
    "      .merge(df_gtrends[['code_dep', 'PC1', 'PC2', 'PC3', 'lin_1', 'lin_2', 'lin_3']], on = 'code_dep', how = 'left'))"
   ]
  },
  {
   "cell_type": "code",
   "execution_count": null,
   "id": "9ed7fa9c",
   "metadata": {},
   "outputs": [],
   "source": [
    "df.shape"
   ]
  },
  {
   "cell_type": "code",
   "execution_count": null,
   "id": "5d098928",
   "metadata": {},
   "outputs": [],
   "source": [
    "df.dropna().shape"
   ]
  },
  {
   "cell_type": "code",
   "execution_count": null,
   "id": "b9d0c902",
   "metadata": {},
   "outputs": [],
   "source": [
    "df.to_csv(\"../midsave/regression.csv\", index=False)"
   ]
  }
 ],
 "metadata": {
  "kernelspec": {
   "display_name": "Python 3 (ipykernel)",
   "language": "python",
   "name": "python3"
  },
  "language_info": {
   "codemirror_mode": {
    "name": "ipython",
    "version": 3
   },
   "file_extension": ".py",
   "mimetype": "text/x-python",
   "name": "python",
   "nbconvert_exporter": "python",
   "pygments_lexer": "ipython3",
   "version": "3.10.9"
  },
  "varInspector": {
   "cols": {
    "lenName": 16,
    "lenType": 16,
    "lenVar": 40
   },
   "kernels_config": {
    "python": {
     "delete_cmd_postfix": "",
     "delete_cmd_prefix": "del ",
     "library": "var_list.py",
     "varRefreshCmd": "print(var_dic_list())"
    },
    "r": {
     "delete_cmd_postfix": ") ",
     "delete_cmd_prefix": "rm(",
     "library": "var_list.r",
     "varRefreshCmd": "cat(var_dic_list()) "
    }
   },
   "types_to_exclude": [
    "module",
    "function",
    "builtin_function_or_method",
    "instance",
    "_Feature"
   ],
   "window_display": false
  }
 },
 "nbformat": 4,
 "nbformat_minor": 5
}
