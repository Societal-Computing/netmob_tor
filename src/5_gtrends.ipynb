{
 "cells": [
  {
   "cell_type": "code",
   "execution_count": null,
   "id": "2338eab5",
   "metadata": {},
   "outputs": [],
   "source": [
    "import pandas as pd\n",
    "import numpy as np\n",
    "from scipy.stats import spearmanr\n",
    "from sklearn.decomposition import PCA\n",
    "from sklearn.preprocessing import StandardScaler\n",
    "import matplotlib.pyplot as plt\n",
    "import seaborn as sns"
   ]
  },
  {
   "cell_type": "markdown",
   "id": "a9342e81",
   "metadata": {},
   "source": [
    "Read data"
   ]
  },
  {
   "cell_type": "code",
   "execution_count": null,
   "id": "bd8c8bbe",
   "metadata": {},
   "outputs": [],
   "source": [
    "df_cpc_com = pd.read_csv('../midsave/cpc_com.csv', dtype={'code_com': str,\n",
    "                                                   'code_dep': str\n",
    "                                                         })\n",
    "df_xwalk = pd.read_csv('../midsave/xwalk.csv', dtype={'code_com': str,\n",
    "                                                   'code_epci': str,\n",
    "                                                   'code_dep': str})"
   ]
  },
  {
   "cell_type": "markdown",
   "id": "30a4cfaa",
   "metadata": {},
   "source": [
    "Results from gTrend queries"
   ]
  },
  {
   "cell_type": "code",
   "execution_count": null,
   "id": "13834371",
   "metadata": {},
   "outputs": [],
   "source": [
    "df_gtrends = pd.read_csv('../midsave/intial_anaysis_gtrends.csv', sep=';', dtype={'code_reg': str})"
   ]
  },
  {
   "cell_type": "markdown",
   "id": "7867bf72",
   "metadata": {},
   "source": [
    "Aggregate CPC to region-level"
   ]
  },
  {
   "cell_type": "code",
   "execution_count": null,
   "id": "61003b36",
   "metadata": {},
   "outputs": [],
   "source": [
    "cp_dep = (df_cpc_com\n",
    "          .merge(df_xwalk[['code_com', 'code_dep']].drop_duplicates(), on = 'code_com', how = 'left')\n",
    "           .groupby('code_dep')[['YouTube', 'Web_Adult', 'cpc', 'pop']]\n",
    "           .sum()\n",
    "           .reset_index()\n",
    "          )"
   ]
  },
  {
   "cell_type": "code",
   "execution_count": null,
   "id": "789cd5c6",
   "metadata": {},
   "outputs": [],
   "source": [
    "cp_dep.head()"
   ]
  },
  {
   "cell_type": "code",
   "execution_count": null,
   "id": "9869b2a9",
   "metadata": {},
   "outputs": [],
   "source": [
    "cp_dep.code_dep.unique()"
   ]
  },
  {
   "cell_type": "markdown",
   "id": "f5c72db4",
   "metadata": {},
   "source": [
    "Get per 1000 capita estimates"
   ]
  },
  {
   "cell_type": "code",
   "execution_count": null,
   "id": "f8328394",
   "metadata": {},
   "outputs": [],
   "source": [
    "cp_dep['yt_per_1000'] = cp_dep[\"YouTube\"] * 1000 / cp_dep['pop']\n",
    "cp_dep['wa_per_1000'] = cp_dep[\"Web_Adult\"] * 1000 / cp_dep['pop']\n",
    "cp_dep[\"cpc_per_1000\"] = cp_dep[\"cpc\"] * 1000 / cp_dep['pop']"
   ]
  },
  {
   "cell_type": "markdown",
   "id": "b6d5a99b",
   "metadata": {},
   "source": [
    "Add region names"
   ]
  },
  {
   "cell_type": "code",
   "execution_count": null,
   "id": "7871ce0d",
   "metadata": {},
   "outputs": [],
   "source": [
    "name_dep = (df_xwalk[['code_dep']]\n",
    " .drop_duplicates()\n",
    " .reset_index(drop = True)\n",
    " .sort_values(by = ['code_dep']))\n",
    "\n",
    "name_dep['geoName'] = np.nan"
   ]
  },
  {
   "cell_type": "code",
   "execution_count": null,
   "id": "dd9e9b03",
   "metadata": {},
   "outputs": [],
   "source": [
    "name_dep.loc[name_dep.code_dep == '24', 'geoName'] = 'Aquitaine'\n",
    "name_dep.loc[name_dep.code_dep == '33', 'geoName'] = 'Aquitaine'\n",
    "name_dep.loc[name_dep.code_dep == '40', 'geoName'] = 'Aquitaine'\n",
    "name_dep.loc[name_dep.code_dep == '47', 'geoName'] = 'Aquitaine'\n",
    "name_dep.loc[name_dep.code_dep == '64', 'geoName'] = 'Aquitaine'\n",
    "\n",
    "name_dep.loc[name_dep.code_dep == '63', 'geoName'] = 'Auvergne'\n",
    "name_dep.loc[name_dep.code_dep == '15', 'geoName'] = 'Auvergne'\n",
    "name_dep.loc[name_dep.code_dep == '43', 'geoName'] = 'Auvergne'\n",
    "name_dep.loc[name_dep.code_dep == '03', 'geoName'] = 'Auvergne'\n",
    "\n",
    "name_dep.loc[name_dep.code_dep == '22', 'geoName'] = 'Brittany'\n",
    "name_dep.loc[name_dep.code_dep == '29', 'geoName'] = 'Brittany'\n",
    "name_dep.loc[name_dep.code_dep == '35', 'geoName'] = 'Brittany'\n",
    "name_dep.loc[name_dep.code_dep == '56', 'geoName'] = 'Brittany'\n",
    "\n",
    "name_dep.loc[name_dep.code_dep == '21', 'geoName'] = 'Burgundy'\n",
    "name_dep.loc[name_dep.code_dep == '58', 'geoName'] = 'Burgundy'\n",
    "name_dep.loc[name_dep.code_dep == '71', 'geoName'] = 'Burgundy'\n",
    "name_dep.loc[name_dep.code_dep == '89', 'geoName'] = 'Burgundy'\n",
    "\n",
    "name_dep.loc[name_dep.code_dep == '18', 'geoName'] = 'Centre-Val de Loire'\n",
    "name_dep.loc[name_dep.code_dep == '28', 'geoName'] = 'Centre-Val de Loire'\n",
    "name_dep.loc[name_dep.code_dep == '37', 'geoName'] = 'Centre-Val de Loire'\n",
    "name_dep.loc[name_dep.code_dep == '41', 'geoName'] = 'Centre-Val de Loire'\n",
    "name_dep.loc[name_dep.code_dep == '36', 'geoName'] = 'Centre-Val de Loire'\n",
    "name_dep.loc[name_dep.code_dep == '45', 'geoName'] = 'Centre-Val de Loire'\n",
    "\n",
    "name_dep.loc[name_dep.code_dep == '08', 'geoName'] = 'Champagne-Ardenne'\n",
    "name_dep.loc[name_dep.code_dep == '10', 'geoName'] = 'Champagne-Ardenne'\n",
    "name_dep.loc[name_dep.code_dep == '51', 'geoName'] = 'Champagne-Ardenne'\n",
    "name_dep.loc[name_dep.code_dep == '52', 'geoName'] = 'Champagne-Ardenne'\n",
    "\n",
    "name_dep.loc[name_dep.code_dep == '25', 'geoName'] = 'Franche-Comté'\n",
    "name_dep.loc[name_dep.code_dep == '39', 'geoName'] = 'Franche-Comté'\n",
    "name_dep.loc[name_dep.code_dep == '70', 'geoName'] = 'Franche-Comté'\n",
    "name_dep.loc[name_dep.code_dep == '90', 'geoName'] = 'Franche-Comté'\n",
    "\n",
    "name_dep.loc[name_dep.code_dep == '11', 'geoName'] = 'Languedoc-Roussillon'\n",
    "name_dep.loc[name_dep.code_dep == '30', 'geoName'] = 'Languedoc-Roussillon'\n",
    "name_dep.loc[name_dep.code_dep == '34', 'geoName'] = 'Languedoc-Roussillon'\n",
    "name_dep.loc[name_dep.code_dep == '66', 'geoName'] = 'Languedoc-Roussillon'\n",
    "\n",
    "name_dep.loc[name_dep.code_dep == '19', 'geoName'] = 'Limousin'\n",
    "name_dep.loc[name_dep.code_dep == '23', 'geoName'] = 'Limousin'\n",
    "name_dep.loc[name_dep.code_dep == '87', 'geoName'] = 'Limousin'\n",
    "\n",
    "name_dep.loc[name_dep.code_dep == '54', 'geoName'] = 'Lorraine'\n",
    "name_dep.loc[name_dep.code_dep == '55', 'geoName'] = 'Lorraine'\n",
    "name_dep.loc[name_dep.code_dep == '57', 'geoName'] = 'Lorraine'\n",
    "name_dep.loc[name_dep.code_dep == '88', 'geoName'] = 'Lorraine'\n",
    "\n",
    "name_dep.loc[name_dep.code_dep == '14', 'geoName'] = 'Lower Normandy'\n",
    "name_dep.loc[name_dep.code_dep == '50', 'geoName'] = 'Lower Normandy'\n",
    "name_dep.loc[name_dep.code_dep == '61', 'geoName'] = 'Lower Normandy'\n",
    "\n",
    "name_dep.loc[name_dep.code_dep == '09', 'geoName'] = 'Midi-Pyrénées'\n",
    "name_dep.loc[name_dep.code_dep == '12', 'geoName'] = 'Midi-Pyrénées'\n",
    "name_dep.loc[name_dep.code_dep == '31', 'geoName'] = 'Midi-Pyrénées'\n",
    "name_dep.loc[name_dep.code_dep == '32', 'geoName'] = 'Midi-Pyrénées'\n",
    "name_dep.loc[name_dep.code_dep == '46', 'geoName'] = 'Midi-Pyrénées'\n",
    "name_dep.loc[name_dep.code_dep == '65', 'geoName'] = 'Midi-Pyrénées'\n",
    "name_dep.loc[name_dep.code_dep == '81', 'geoName'] = 'Midi-Pyrénées'\n",
    "name_dep.loc[name_dep.code_dep == '82', 'geoName'] = 'Midi-Pyrénées'\n",
    "\n",
    "name_dep.loc[name_dep.code_dep == '59', 'geoName'] = 'Nord-Pas-de-Calais'\n",
    "name_dep.loc[name_dep.code_dep == '62', 'geoName'] = 'Nord-Pas-de-Calais'\n",
    "\n",
    "name_dep.loc[name_dep.code_dep == '44', 'geoName'] = 'Pays de la Loire'\n",
    "name_dep.loc[name_dep.code_dep == '49', 'geoName'] = 'Pays de la Loire'\n",
    "name_dep.loc[name_dep.code_dep == '53', 'geoName'] = 'Pays de la Loire'\n",
    "name_dep.loc[name_dep.code_dep == '72', 'geoName'] = 'Pays de la Loire'\n",
    "name_dep.loc[name_dep.code_dep == '85', 'geoName'] = 'Pays de la Loire'\n",
    "\n",
    "name_dep.loc[name_dep.code_dep == '02', 'geoName'] = 'Picardy'\n",
    "name_dep.loc[name_dep.code_dep == '60', 'geoName'] = 'Picardy'\n",
    "name_dep.loc[name_dep.code_dep == '80', 'geoName'] = 'Picardy'\n",
    "\n",
    "name_dep.loc[name_dep.code_dep == '16', 'geoName'] = 'Poitou-Charentes'\n",
    "name_dep.loc[name_dep.code_dep == '17', 'geoName'] = 'Poitou-Charentes'\n",
    "name_dep.loc[name_dep.code_dep == '79', 'geoName'] = 'Poitou-Charentes'\n",
    "name_dep.loc[name_dep.code_dep == '86', 'geoName'] = 'Poitou-Charentes'\n",
    "\n",
    "name_dep.loc[name_dep.code_dep == '04', 'geoName'] = \"Provence-Alpes-Côte d'Azur\"\n",
    "name_dep.loc[name_dep.code_dep == '05', 'geoName'] = \"Provence-Alpes-Côte d'Azur\"\n",
    "name_dep.loc[name_dep.code_dep == '06', 'geoName'] = \"Provence-Alpes-Côte d'Azur\"\n",
    "name_dep.loc[name_dep.code_dep == '13', 'geoName'] = \"Provence-Alpes-Côte d'Azur\"\n",
    "name_dep.loc[name_dep.code_dep == '83', 'geoName'] = \"Provence-Alpes-Côte d'Azur\"\n",
    "name_dep.loc[name_dep.code_dep == '84', 'geoName'] = \"Provence-Alpes-Côte d'Azur\"\n",
    "\n",
    "name_dep.loc[name_dep.code_dep == '01', 'geoName'] = 'Rhone-Alpes'\n",
    "name_dep.loc[name_dep.code_dep == '07', 'geoName'] = 'Rhone-Alpes'\n",
    "name_dep.loc[name_dep.code_dep == '26', 'geoName'] = 'Rhone-Alpes'\n",
    "name_dep.loc[name_dep.code_dep == '38', 'geoName'] = 'Rhone-Alpes'\n",
    "name_dep.loc[name_dep.code_dep == '42', 'geoName'] = 'Rhone-Alpes'\n",
    "name_dep.loc[name_dep.code_dep == '69', 'geoName'] = 'Rhone-Alpes'\n",
    "name_dep.loc[name_dep.code_dep == '73', 'geoName'] = 'Rhone-Alpes'\n",
    "name_dep.loc[name_dep.code_dep == '74', 'geoName'] = 'Rhone-Alpes'\n",
    "\n",
    "name_dep.loc[name_dep.code_dep == '27', 'geoName'] = 'Upper Normandy'\n",
    "name_dep.loc[name_dep.code_dep == '76', 'geoName'] = 'Upper Normandy'\n",
    "\n",
    "name_dep.loc[name_dep.code_dep == '91', 'geoName'] = 'Île-de-France'\n",
    "name_dep.loc[name_dep.code_dep == '92', 'geoName'] = 'Île-de-France'\n",
    "name_dep.loc[name_dep.code_dep == '93', 'geoName'] = 'Île-de-France'\n",
    "name_dep.loc[name_dep.code_dep == '94', 'geoName'] = 'Île-de-France'\n",
    "name_dep.loc[name_dep.code_dep == '95', 'geoName'] = 'Île-de-France'\n",
    "name_dep.loc[name_dep.code_dep == '77', 'geoName'] = 'Île-de-France'\n",
    "name_dep.loc[name_dep.code_dep == '78', 'geoName'] = 'Île-de-France'\n",
    "name_dep.loc[name_dep.code_dep == '75', 'geoName'] = 'Île-de-France'\n",
    "\n",
    "name_dep.loc[name_dep.code_dep == '67', 'geoName'] = 'Alsace'\n",
    "name_dep.loc[name_dep.code_dep == '68', 'geoName'] = 'Alsace'"
   ]
  },
  {
   "cell_type": "code",
   "execution_count": null,
   "id": "3cff37fb",
   "metadata": {},
   "outputs": [],
   "source": [
    "cp_dep = cp_dep.merge(name_dep, on = 'code_dep', how = 'left').drop(columns = ['pop'])"
   ]
  },
  {
   "cell_type": "code",
   "execution_count": null,
   "id": "f67f2a04",
   "metadata": {},
   "outputs": [],
   "source": [
    "df_gtrends= (df_gtrends\n",
    "             .drop(columns = ['code_reg', 'phtc', 'psthc', 'porno jeune ado_y', 'video porno ado_y', 'sexe mineur',\n",
    "                             'sex mineur'])\n",
    "            .rename(columns = {'video porno ado_x' : 'video porno ado', 'porno jeune ado_x' : 'porno jeune ado'}))"
   ]
  },
  {
   "cell_type": "code",
   "execution_count": null,
   "id": "c0747c37",
   "metadata": {},
   "outputs": [],
   "source": [
    "df_gtrends.shape"
   ]
  },
  {
   "cell_type": "markdown",
   "id": "4e494104",
   "metadata": {},
   "source": [
    "Delete all-zero columns"
   ]
  },
  {
   "cell_type": "code",
   "execution_count": null,
   "id": "2e240521",
   "metadata": {},
   "outputs": [],
   "source": [
    "df_gtrends = df_gtrends.loc[:, (df_gtrends != 0).any(axis=0)]"
   ]
  },
  {
   "cell_type": "markdown",
   "id": "f4ee320a",
   "metadata": {},
   "source": [
    "Get principal components"
   ]
  },
  {
   "cell_type": "code",
   "execution_count": null,
   "id": "ef898644",
   "metadata": {},
   "outputs": [],
   "source": [
    "n_components = 3\n",
    "pca = PCA(n_components = n_components)"
   ]
  },
  {
   "cell_type": "code",
   "execution_count": null,
   "id": "2a9ddf7e",
   "metadata": {},
   "outputs": [],
   "source": [
    "X = StandardScaler().fit_transform(df_gtrends.drop(columns = ['geoName']))\n",
    "pca.fit(X)"
   ]
  },
  {
   "cell_type": "markdown",
   "id": "7044eddc",
   "metadata": {},
   "source": [
    "Get some insights about a good choice of the number of components"
   ]
  },
  {
   "cell_type": "code",
   "execution_count": null,
   "id": "c45f3941",
   "metadata": {},
   "outputs": [],
   "source": [
    "explained_variance = pca.explained_variance_ratio_\n",
    "cumulative_explained_variance = explained_variance.cumsum()\n",
    "\n",
    "plt.plot(range(1, len(cumulative_explained_variance) + 1), cumulative_explained_variance, marker='o', linestyle='--')\n",
    "plt.xlabel('Number of Components')\n",
    "plt.ylabel('Cumulative Explained Variance')\n",
    "plt.title('Explained Variance vs. Number of Components')\n",
    "plt.grid(True)\n",
    "plt.show()"
   ]
  },
  {
   "cell_type": "markdown",
   "id": "2529de84",
   "metadata": {},
   "source": [
    "Create a visualization of the composition of the components"
   ]
  },
  {
   "cell_type": "code",
   "execution_count": null,
   "id": "422bd918",
   "metadata": {},
   "outputs": [],
   "source": [
    "loadings = pca.components_\n",
    "\n",
    "plt.figure(figsize=(8, 2))\n",
    "sns.heatmap(loadings, annot=False, cmap='coolwarm', xticklabels=df_gtrends.drop(columns = ['geoName']).columns, yticklabels=[f'PC{i+1}' for i in range(n_components)])\n",
    "plt.savefig('../viz/pca.png', dpi=300, bbox_inches=\"tight\")\n",
    "plt.show()\n",
    "\n"
   ]
  },
  {
   "cell_type": "markdown",
   "id": "033e081d",
   "metadata": {},
   "source": [
    "Extract principal components as features"
   ]
  },
  {
   "cell_type": "code",
   "execution_count": null,
   "id": "3aa9e788",
   "metadata": {},
   "outputs": [],
   "source": [
    "principalComponents = pca.fit_transform(X)\n",
    "pca_df = pd.DataFrame(data=principalComponents, columns=[f'PC{i}' for i in range(1, n_components + 1)])"
   ]
  },
  {
   "cell_type": "code",
   "execution_count": null,
   "id": "b601fc58",
   "metadata": {},
   "outputs": [],
   "source": [
    "df_gtrends = pd.concat([df_gtrends, pca_df], axis=1)"
   ]
  },
  {
   "cell_type": "markdown",
   "id": "044e410f",
   "metadata": {},
   "source": [
    "Create linear indices"
   ]
  },
  {
   "cell_type": "code",
   "execution_count": null,
   "id": "d17978eb",
   "metadata": {},
   "outputs": [],
   "source": [
    "df_gtrends['lin_1'] = (df_gtrends['pedoporno'] + df_gtrends['porno mineur'] + \n",
    "                       df_gtrends['porno enfant'])/(3*100)\n",
    "\n",
    "df_gtrends['lin_2'] = (df_gtrends['boylove'] + \n",
    "                       df_gtrends['porno jeune ado'] + df_gtrends['video porno ado'] + \n",
    "                       df_gtrends['ado porno'] + \n",
    "                       df_gtrends['porno jeune fille'] + df_gtrends['omegle'])/(6*100)\n",
    "\n",
    "df_gtrends['lin_3'] = (df_gtrends['pedoporno'] + df_gtrends['porno mineur'] + \n",
    "                       df_gtrends['porno enfant'] + df_gtrends['hurtcore'] + \n",
    "                       df_gtrends['boylove'] + df_gtrends['porno jeune ado'] + df_gtrends['video porno ado'] + \n",
    "                       df_gtrends['ado porno'] + df_gtrends['porno jeune fille'] + \n",
    "                       df_gtrends['omegle'] + df_gtrends['pthc'])/(11*100)"
   ]
  },
  {
   "cell_type": "code",
   "execution_count": null,
   "id": "e47f38fb",
   "metadata": {},
   "outputs": [],
   "source": [
    "df_gtrends.columns"
   ]
  },
  {
   "cell_type": "code",
   "execution_count": null,
   "id": "a9a6b15c",
   "metadata": {},
   "outputs": [],
   "source": [
    "cp_dep = cp_dep.merge(df_gtrends, on = 'geoName', how = 'left')"
   ]
  },
  {
   "cell_type": "code",
   "execution_count": null,
   "id": "61a16f34",
   "metadata": {},
   "outputs": [],
   "source": [
    "cp_dep.head()"
   ]
  },
  {
   "cell_type": "code",
   "execution_count": null,
   "id": "89285f9d",
   "metadata": {},
   "outputs": [],
   "source": [
    "cp_dep.describe()"
   ]
  },
  {
   "cell_type": "markdown",
   "id": "fb3091a7",
   "metadata": {},
   "source": [
    "Save and get correlations"
   ]
  },
  {
   "cell_type": "code",
   "execution_count": null,
   "id": "2a3a6b28",
   "metadata": {},
   "outputs": [],
   "source": [
    "cp_dep.to_csv('../midsave/gtrends_dep.csv')"
   ]
  }
 ],
 "metadata": {
  "kernelspec": {
   "display_name": "Python 3 (ipykernel)",
   "language": "python",
   "name": "python3"
  },
  "language_info": {
   "codemirror_mode": {
    "name": "ipython",
    "version": 3
   },
   "file_extension": ".py",
   "mimetype": "text/x-python",
   "name": "python",
   "nbconvert_exporter": "python",
   "pygments_lexer": "ipython3",
   "version": "3.10.9"
  },
  "varInspector": {
   "cols": {
    "lenName": 16,
    "lenType": 16,
    "lenVar": 40
   },
   "kernels_config": {
    "python": {
     "delete_cmd_postfix": "",
     "delete_cmd_prefix": "del ",
     "library": "var_list.py",
     "varRefreshCmd": "print(var_dic_list())"
    },
    "r": {
     "delete_cmd_postfix": ") ",
     "delete_cmd_prefix": "rm(",
     "library": "var_list.r",
     "varRefreshCmd": "cat(var_dic_list()) "
    }
   },
   "types_to_exclude": [
    "module",
    "function",
    "builtin_function_or_method",
    "instance",
    "_Feature"
   ],
   "window_display": false
  }
 },
 "nbformat": 4,
 "nbformat_minor": 5
}
