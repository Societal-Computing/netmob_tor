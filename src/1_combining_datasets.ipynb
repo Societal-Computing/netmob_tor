{
 "cells": [
  {
   "cell_type": "markdown",
   "id": "4c0e0a00",
   "metadata": {},
   "source": [
    "# Combining data sources on a geographic level"
   ]
  },
  {
   "cell_type": "markdown",
   "id": "dd52a138",
   "metadata": {},
   "source": [
    "1) Map data on IRIS is extracted from here: https://geoservices.ign.fr/contoursiris\n",
    "\n",
    "2) All other geo identifiers from here: https://geoservices.ign.fr/adminexpress\n",
    "\n",
    "3) Netmob data from: https://netmob2023challenge.networks.imdea.org"
   ]
  },
  {
   "cell_type": "markdown",
   "id": "5a5b862a",
   "metadata": {},
   "source": [
    "### Import packages"
   ]
  },
  {
   "cell_type": "markdown",
   "id": "059f8897",
   "metadata": {},
   "source": [
    "In a first step, we load relevant packages"
   ]
  },
  {
   "cell_type": "code",
   "execution_count": null,
   "id": "da46f4de",
   "metadata": {},
   "outputs": [],
   "source": [
    "import numpy as np\n",
    "import pandas as pd\n",
    "import geopandas as gpd\n",
    "from tqdm import tqdm\n",
    "import json"
   ]
  },
  {
   "cell_type": "markdown",
   "id": "51f84ffe",
   "metadata": {},
   "source": [
    "### Load IRIS- and commune-level data for relevant identifiers"
   ]
  },
  {
   "cell_type": "code",
   "execution_count": null,
   "id": "8fbc746e",
   "metadata": {},
   "outputs": [],
   "source": [
    "    map_iris = gpd.read_file(\"../external_data/CONTOURS-IRIS_2-1__SHP__FRA_2019-01-01/CONTOURS-IRIS/1_DONNEES_LIVRAISON_2020-01-00139/CONTOURS-IRIS_2-1_SHP_LAMB93_FXX-2019/CONTOURS-IRIS.shp\")"
   ]
  },
  {
   "cell_type": "code",
   "execution_count": null,
   "id": "efd84aac",
   "metadata": {},
   "outputs": [],
   "source": [
    "map_com = gpd.read_file(\"../external_data/ADMIN-EXPRESS-COG_2-0__SHP__FRA_2019-09-24/ADMIN-EXPRESS-COG/1_DONNEES_LIVRAISON_2019-09-24/ADE-COG_2-0_SHP_WGS84_FR/COMMUNE.shp\")"
   ]
  },
  {
   "cell_type": "code",
   "execution_count": null,
   "id": "e22a20d3",
   "metadata": {},
   "outputs": [],
   "source": [
    "map_com = (map_iris\n",
    "           .dissolve(by = 'INSEE_COM')\n",
    "           .reset_index()\n",
    "           .merge(map_com[['INSEE_COM', 'CODE_EPCI', 'INSEE_DEP', 'INSEE_REG', 'POPULATION']], on = 'INSEE_COM', how = 'left'))"
   ]
  },
  {
   "cell_type": "code",
   "execution_count": null,
   "id": "23eb13a7",
   "metadata": {},
   "outputs": [],
   "source": [
    "map_com = map_com.to_crs(map_iris.crs)"
   ]
  },
  {
   "cell_type": "code",
   "execution_count": null,
   "id": "f54e65c9",
   "metadata": {},
   "outputs": [],
   "source": [
    "map_com[~map_com['INSEE_COM'].isin(map_iris['INSEE_COM'].unique())]['INSEE_COM'].unique().size"
   ]
  },
  {
   "cell_type": "markdown",
   "id": "2c2fb75e",
   "metadata": {},
   "source": [
    "Although most of those not included most likely be French overseas territory, we still go for the commune-level shape for now."
   ]
  },
  {
   "cell_type": "markdown",
   "id": "70f34a8c",
   "metadata": {},
   "source": [
    "### Combine urban areas included in the Netmob dataset with geographic identifiers in France"
   ]
  },
  {
   "cell_type": "markdown",
   "id": "c3cabfbc",
   "metadata": {},
   "source": [
    "Defining names of urban areas under study"
   ]
  },
  {
   "cell_type": "code",
   "execution_count": null,
   "id": "12acc072",
   "metadata": {},
   "outputs": [],
   "source": [
    "cities = ['Bordeaux', 'Clermont-Ferrand', 'Dijon', 'Grenoble', 'Lille',\n",
    "                 'Lyon', 'Mans', 'Marseille', 'Metz', 'Montpellier',\n",
    "                 'Nancy', 'Nantes', 'Nice', 'Orleans', 'Paris',\n",
    "                 'Rennes', 'Saint-Etienne', 'Strasbourg', 'Toulouse', 'Tours']"
   ]
  },
  {
   "cell_type": "markdown",
   "id": "6f54ccc3",
   "metadata": {},
   "source": [
    "Creating a map of different geographic identifiers (tile_id, CODE_IRIS, code_com)\n",
    "\n",
    "We have different mapping approaches here:\n",
    "\n",
    "1) Mapping the tiles as polygons, so communes just outside the margins are also included in many cases\n",
    "2) Mapping the tiles by their centroids, so communes just outside the margins are also included in just a few cases\n",
    "3) Mapping the tiles to their closest neighbor\n",
    "\n",
    "We go with option 2)"
   ]
  },
  {
   "cell_type": "code",
   "execution_count": null,
   "id": "17ecb984",
   "metadata": {},
   "outputs": [],
   "source": [
    "x_walk = pd.DataFrame()\n",
    "\n",
    "for city_str in tqdm(cities):\n",
    "    \n",
    "    shape = gpd.read_file(f'../Data/Netmob/{city_str}/{city_str}.geojson')\n",
    "    \n",
    "    shape = shape.to_crs(map_iris.crs)\n",
    "    \n",
    "    shape['poly'] = shape[\"geometry\"]\n",
    "    shape['geometry'] = shape[\"geometry\"].centroid\n",
    "\n",
    "    tmp = gpd.tools.sjoin(shape, map_com[['INSEE_COM', 'INSEE_DEP', 'INSEE_REG', 'CODE_EPCI', 'POPULATION', 'NOM_COM', 'geometry']], predicate = 'within', how=\"inner\")\n",
    "    \n",
    "    tmp['cities'] = city_str\n",
    "    \n",
    "    tmp['geometry'] = tmp[\"poly\"]\n",
    "\n",
    "    tmp = (tmp\n",
    "           .drop(columns=['index_right', 'poly'])\n",
    "           .rename(columns={\"INSEE_COM\": \"code_com\", 'INSEE_DEP': \"code_dep\", 'INSEE_REG': \"code_reg\", 'CODE_EPCI': \"code_epci\", 'NOM_COM': \"name_com\", 'POPULATION': \"pop\"}))   \n",
    "    \n",
    "    if x_walk.empty:\n",
    "        x_walk = tmp\n",
    "    else:\n",
    "        x_walk = pd.concat([x_walk, tmp])"
   ]
  },
  {
   "cell_type": "code",
   "execution_count": null,
   "id": "1c1e4dfd",
   "metadata": {},
   "outputs": [],
   "source": [
    "x_walk = x_walk.drop_duplicates(['tile_id', 'cities'])"
   ]
  },
  {
   "cell_type": "code",
   "execution_count": null,
   "id": "0bad9c2f",
   "metadata": {},
   "outputs": [],
   "source": [
    "x_walk.shape"
   ]
  },
  {
   "cell_type": "code",
   "execution_count": null,
   "id": "36e64b47",
   "metadata": {},
   "outputs": [],
   "source": [
    "x_walk.head()"
   ]
  },
  {
   "cell_type": "markdown",
   "id": "2519163a",
   "metadata": {},
   "source": [
    "Save them"
   ]
  },
  {
   "cell_type": "code",
   "execution_count": null,
   "id": "24648642",
   "metadata": {},
   "outputs": [],
   "source": [
    "x_walk[['tile_id', 'code_com', 'name_com', 'code_epci', 'cities', 'code_dep', 'code_reg']].to_csv(\"../midsave/xwalk.csv\", index=False)"
   ]
  },
  {
   "cell_type": "code",
   "execution_count": null,
   "id": "e9367c01",
   "metadata": {},
   "outputs": [],
   "source": [
    "x_walk.to_file(\"../midsave/map_crime.gpkg\", layer='tiles', driver=\"GPKG\")"
   ]
  }
 ],
 "metadata": {
  "kernelspec": {
   "display_name": "Python 3 (ipykernel)",
   "language": "python",
   "name": "python3"
  },
  "language_info": {
   "codemirror_mode": {
    "name": "ipython",
    "version": 3
   },
   "file_extension": ".py",
   "mimetype": "text/x-python",
   "name": "python",
   "nbconvert_exporter": "python",
   "pygments_lexer": "ipython3",
   "version": "3.10.9"
  },
  "varInspector": {
   "cols": {
    "lenName": 16,
    "lenType": 16,
    "lenVar": 40
   },
   "kernels_config": {
    "python": {
     "delete_cmd_postfix": "",
     "delete_cmd_prefix": "del ",
     "library": "var_list.py",
     "varRefreshCmd": "print(var_dic_list())"
    },
    "r": {
     "delete_cmd_postfix": ") ",
     "delete_cmd_prefix": "rm(",
     "library": "var_list.r",
     "varRefreshCmd": "cat(var_dic_list()) "
    }
   },
   "types_to_exclude": [
    "module",
    "function",
    "builtin_function_or_method",
    "instance",
    "_Feature"
   ],
   "window_display": false
  }
 },
 "nbformat": 4,
 "nbformat_minor": 5
}
