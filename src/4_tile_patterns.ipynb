{
 "cells": [
  {
   "cell_type": "markdown",
   "id": "ffb909fc",
   "metadata": {},
   "source": [
    "# Looking at CPC consumption for top-three tiles"
   ]
  },
  {
   "cell_type": "code",
   "execution_count": null,
   "id": "a55c6421",
   "metadata": {},
   "outputs": [],
   "source": [
    "import geopandas as gpd\n",
    "import pandas as pd\n",
    "import numpy as np\n",
    "from tqdm import tqdm\n",
    "import datetime\n",
    "import matplotlib.pyplot as plt\n",
    "import seaborn as sns"
   ]
  },
  {
   "cell_type": "code",
   "execution_count": null,
   "id": "0583773b",
   "metadata": {},
   "outputs": [],
   "source": [
    "map_df = gpd.read_file(\"../midsave/map_crime.gpkg\")"
   ]
  },
  {
   "cell_type": "code",
   "execution_count": null,
   "id": "60a217ba",
   "metadata": {},
   "outputs": [],
   "source": [
    "cpc = pd.read_csv(\"../midsave/cpc_com.csv\", dtype={'code_com': str})"
   ]
  },
  {
   "cell_type": "markdown",
   "id": "443389fe",
   "metadata": {},
   "source": [
    "Run only for cities with high Tor traffic tiles per 1000"
   ]
  },
  {
   "cell_type": "code",
   "execution_count": null,
   "id": "b4c204fa",
   "metadata": {},
   "outputs": [],
   "source": [
    "cities = ['Toulouse', 'Dijon', 'Orleans']\n",
    "\n",
    "apps = ['Tor']\n",
    "\n",
    "traffic_dir = ['DL']"
   ]
  },
  {
   "cell_type": "code",
   "execution_count": null,
   "id": "cffb2fa6",
   "metadata": {},
   "outputs": [],
   "source": [
    "df = pd.DataFrame()\n",
    "\n",
    "for city_str in cities:\n",
    "    \n",
    "    map_city = map_df[map_df.cities == city_str]\n",
    "    \n",
    "    df_0 = pd.DataFrame()\n",
    "    \n",
    "    for app_str in apps:\n",
    "        for rate_str in traffic_dir:\n",
    "            \n",
    "            df_1 = pd.DataFrame()\n",
    "            \n",
    "            for month in range(3, 6):\n",
    "              print(\"Month\", month, \"in\", city_str, \"for\", app_str, rate_str)\n",
    "              traffic = dict()\n",
    "              s = 1\n",
    "              if month == 3:\n",
    "                s = 16\n",
    "              if month == 4:\n",
    "                n = 31\n",
    "              else:\n",
    "                n = 32\n",
    "              for day in tqdm(range(s, n)):\n",
    "                day_index = day\n",
    "                if day < 10:\n",
    "                  day_str = f'20190{month}0{day}'\n",
    "                else:\n",
    "                  day_str = f'20190{month}{day}'\n",
    "\n",
    "                day_print = datetime.datetime.strptime(day_str, '%Y%m%d')\n",
    "                times = [day_print + datetime.timedelta(minutes=15*i) for i in range(96)]\n",
    "                times_str = [t.strftime('%H:%M') for t in times]\n",
    "\n",
    "                # column names\n",
    "                columns = ['tile_id'] + times_str\n",
    "                \n",
    "                df_2 = pd.read_csv(f'../Data/Netmob/{city_str}/{app_str}/{day_str}/{city_str}_{app_str}_{day_str}_{rate_str}.txt', sep = \" \", names = columns)\n",
    "                \n",
    "                df_2 = pd.melt(df_2, id_vars=['tile_id'], var_name='time', value_name=app_str).copy()\n",
    "                \n",
    "                df_2[\"date\"] = day_str\n",
    "                \n",
    "                df_2['hour'] = pd.to_datetime(df_2['time'], format='%H:%M').dt.hour\n",
    "                \n",
    "                df_2 = (df_2\n",
    "                        .groupby(['tile_id', 'date', 'hour'])['Tor'].sum()\n",
    "                        .reset_index()\n",
    "                        .copy())\n",
    "                \n",
    "                df_1 = pd.concat([df_1,df_2])\n",
    "                                  \n",
    "            if df_0.empty:\n",
    "                df_0 = df_1.copy()\n",
    "            else:\n",
    "                df_0 = df_0.merge(df_1, on = ['tile_id', 'date', 'hour'], how = 'left').reset_index().copy()\n",
    "            \n",
    "            df_0[\"traffic_dir\"] = rate_str\n",
    "            df_0[\"cities\"] = city_str\n",
    "            \n",
    "            \n",
    "            \n",
    "    df = pd.concat([df,df_0])"
   ]
  },
  {
   "cell_type": "code",
   "execution_count": null,
   "id": "efd26fc6",
   "metadata": {},
   "outputs": [],
   "source": [
    "df.head()"
   ]
  },
  {
   "cell_type": "markdown",
   "id": "070e8b65",
   "metadata": {},
   "source": [
    "# Plot timelines of communes"
   ]
  },
  {
   "cell_type": "markdown",
   "id": "7cb3fc13",
   "metadata": {},
   "source": [
    "Communes of interest (those 3 communes with the highest CPC estimate as derived from 2_compute_cpc.ipynb): 31352, 21192, 45072"
   ]
  },
  {
   "cell_type": "code",
   "execution_count": null,
   "id": "cff8a571",
   "metadata": {},
   "outputs": [],
   "source": [
    "top3 = (df\n",
    "        .merge(map_df[['tile_id', 'code_com', 'name_com', 'cities']], on = ['tile_id', 'cities'], how = 'left')\n",
    "        .merge(cpc[['code_com', 'c']], on = ['code_com'], how = 'left')\n",
    "        .query('(code_com == \"31352\") | (code_com == \"21192\") | (code_com == \"45072\") | (code_com == \"75116\")'))"
   ]
  },
  {
   "cell_type": "code",
   "execution_count": null,
   "id": "1b3968f3",
   "metadata": {},
   "outputs": [],
   "source": [
    "top3['datehour'] = pd.to_datetime(top3['date'] + top3['hour'].astype(str), format='%Y%m%d%H')"
   ]
  },
  {
   "cell_type": "code",
   "execution_count": null,
   "id": "06363117",
   "metadata": {},
   "outputs": [],
   "source": [
    "top3['Tor_scaled'] = top3['Tor']*top3['c']"
   ]
  },
  {
   "cell_type": "code",
   "execution_count": null,
   "id": "10225446",
   "metadata": {},
   "outputs": [],
   "source": [
    "top3.head()"
   ]
  },
  {
   "cell_type": "code",
   "execution_count": null,
   "id": "5010b14e",
   "metadata": {},
   "outputs": [],
   "source": [
    "fig, ax = plt.subplots(1, figsize=(12,2))\n",
    "sns.lineplot(data=top3.loc[top3.code_com == \"31352\"], x=\"datehour\", y=\"Tor_scaled\", hue=\"tile_id\", lw=0.1)\n",
    "plt.box(on=None)\n",
    "plt.legend([],[], frameon=False)\n",
    "#plt.legend(loc='upper left', title='Tiles', frameon=False)\n",
    "plt.xlabel(\"Time stamp\")\n",
    "plt.ylabel(\"Normalized DL traffic\")\n",
    "fig.savefig('../viz/timeline_1_31352.png', dpi=300, bbox_inches=\"tight\")"
   ]
  },
  {
   "cell_type": "code",
   "execution_count": null,
   "id": "285fe0c5",
   "metadata": {},
   "outputs": [],
   "source": [
    "fig, ax = plt.subplots(1, figsize=(12,2))\n",
    "sns.lineplot(data=top3.loc[top3.code_com == \"21192\"], x=\"datehour\", y=\"Tor_scaled\", hue=\"tile_id\", lw=0.1)\n",
    "plt.box(on=None)\n",
    "plt.legend([],[], frameon=False)\n",
    "#plt.legend(loc='upper left', title='Tiles', frameon=False)\n",
    "plt.xlabel(\"Time stamp\")\n",
    "plt.ylabel(\"Normalized DL traffic\")\n",
    "fig.savefig('../viz/timeline_2_21192.png', dpi=300, bbox_inches=\"tight\")"
   ]
  },
  {
   "cell_type": "code",
   "execution_count": null,
   "id": "6137ce2d",
   "metadata": {
    "scrolled": true
   },
   "outputs": [],
   "source": [
    "fig, ax = plt.subplots(1, figsize=(12,2))\n",
    "sns.lineplot(data=top3.loc[top3.code_com == \"45072\"], x=\"datehour\", y=\"Tor_scaled\", hue=\"tile_id\", lw=0.1)\n",
    "plt.box(on=None)\n",
    "plt.legend([],[], frameon=False)\n",
    "#plt.legend(loc='upper left', title='Tiles', frameon=False)\n",
    "plt.xlabel(\"Time stamp\")\n",
    "plt.ylabel(\"Normalized DL traffic\")\n",
    "fig.savefig('../viz/timeline_3_45072.png', dpi=300, bbox_inches=\"tight\")"
   ]
  }
 ],
 "metadata": {
  "kernelspec": {
   "display_name": "Python 3 (ipykernel)",
   "language": "python",
   "name": "python3"
  },
  "language_info": {
   "codemirror_mode": {
    "name": "ipython",
    "version": 3
   },
   "file_extension": ".py",
   "mimetype": "text/x-python",
   "name": "python",
   "nbconvert_exporter": "python",
   "pygments_lexer": "ipython3",
   "version": "3.10.9"
  },
  "varInspector": {
   "cols": {
    "lenName": 16,
    "lenType": 16,
    "lenVar": 40
   },
   "kernels_config": {
    "python": {
     "delete_cmd_postfix": "",
     "delete_cmd_prefix": "del ",
     "library": "var_list.py",
     "varRefreshCmd": "print(var_dic_list())"
    },
    "r": {
     "delete_cmd_postfix": ") ",
     "delete_cmd_prefix": "rm(",
     "library": "var_list.r",
     "varRefreshCmd": "cat(var_dic_list()) "
    }
   },
   "types_to_exclude": [
    "module",
    "function",
    "builtin_function_or_method",
    "instance",
    "_Feature"
   ],
   "window_display": false
  }
 },
 "nbformat": 4,
 "nbformat_minor": 5
}
