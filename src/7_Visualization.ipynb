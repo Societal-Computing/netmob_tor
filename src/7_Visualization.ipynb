{
 "cells": [
  {
   "cell_type": "code",
   "execution_count": null,
   "id": "7f8f979c",
   "metadata": {},
   "outputs": [],
   "source": [
    "import geopandas as gpd\n",
    "import pandas as pd\n",
    "import numpy as np\n",
    "from tqdm import tqdm\n",
    "import datetime\n",
    "import matplotlib.pyplot as plt\n",
    "import seaborn as sns\n",
    "from mpl_toolkits.axes_grid1 import make_axes_locatable"
   ]
  },
  {
   "cell_type": "markdown",
   "id": "48a8a8a5",
   "metadata": {},
   "source": [
    "Consumption data"
   ]
  },
  {
   "cell_type": "code",
   "execution_count": null,
   "id": "efeb0128",
   "metadata": {},
   "outputs": [],
   "source": [
    "cpc = pd.read_csv(\"../midsave/cpc_com.csv\", dtype={'code_com': str})"
   ]
  },
  {
   "cell_type": "code",
   "execution_count": null,
   "id": "06567471",
   "metadata": {},
   "outputs": [],
   "source": [
    "cpc.shape"
   ]
  },
  {
   "cell_type": "markdown",
   "id": "3883ca1c",
   "metadata": {},
   "source": [
    "Commune-level map"
   ]
  },
  {
   "cell_type": "code",
   "execution_count": null,
   "id": "1efac0b2",
   "metadata": {},
   "outputs": [],
   "source": [
    "map_com = gpd.read_file(\"../external_data/ADMIN-EXPRESS-COG_2-0__SHP__FRA_2019-09-24/ADMIN-EXPRESS-COG/1_DONNEES_LIVRAISON_2019-09-24/ADE-COG_2-0_SHP_WGS84_FR/COMMUNE.shp\")"
   ]
  },
  {
   "cell_type": "code",
   "execution_count": null,
   "id": "fec309c3",
   "metadata": {},
   "outputs": [],
   "source": [
    "map_com.head(1)"
   ]
  },
  {
   "cell_type": "code",
   "execution_count": null,
   "id": "06a312ca",
   "metadata": {},
   "outputs": [],
   "source": [
    "map_df = (map_com\n",
    "          .rename(columns={\"INSEE_COM\": \"code_com\"})[['code_com', 'geometry']]\n",
    "          .merge(cpc[['cities', 'code_com', 'cpc_per_1000']], on = 'code_com', how = 'inner'))"
   ]
  },
  {
   "cell_type": "code",
   "execution_count": null,
   "id": "0cc0e11f",
   "metadata": {},
   "outputs": [],
   "source": [
    "map_df.head(1)"
   ]
  },
  {
   "cell_type": "code",
   "execution_count": null,
   "id": "cb4bb3ef",
   "metadata": {},
   "outputs": [],
   "source": [
    "map_df.shape"
   ]
  },
  {
   "cell_type": "code",
   "execution_count": null,
   "id": "d79c4d70",
   "metadata": {},
   "outputs": [],
   "source": [
    "map_df.drop_duplicates(['code_com']).shape"
   ]
  },
  {
   "cell_type": "code",
   "execution_count": null,
   "id": "f82ad6e2",
   "metadata": {},
   "outputs": [],
   "source": [
    "map_df.loc[map_df.cities == \"Paris\"].sort_values(by='code_com', ascending=False)"
   ]
  },
  {
   "cell_type": "code",
   "execution_count": null,
   "id": "45eec766",
   "metadata": {},
   "outputs": [],
   "source": [
    "cities = ['Bordeaux', 'Clermont-Ferrand', 'Dijon', 'Grenoble', 'Lille',\n",
    "                 'Lyon', 'Mans', 'Marseille', 'Metz', 'Montpellier',\n",
    "                 'Nancy', 'Nantes', 'Nice', 'Orleans', 'Paris',\n",
    "                 'Rennes', 'Saint-Etienne', 'Strasbourg', 'Toulouse', 'Tours']"
   ]
  },
  {
   "cell_type": "code",
   "execution_count": null,
   "id": "b17dc04a",
   "metadata": {},
   "outputs": [],
   "source": [
    "for city_str in tqdm(cities):\n",
    "\n",
    "    fig, ax = plt.subplots(1, 1, figsize=(10, 10))\n",
    "\n",
    "    divider = make_axes_locatable(ax)\n",
    "    cax = divider.append_axes(\"bottom\", size=\"5%\", pad=0.1)\n",
    "\n",
    "    map_df.query(f\"cities == '{city_str}'\").plot('cpc_per_1000', \n",
    "                                            cmap=sns.cubehelix_palette(as_cmap=True), \n",
    "                                            ax=ax, \n",
    "                                            legend=True, \n",
    "                                            cax=cax, \n",
    "                                            legend_kwds={'orientation': 'horizontal'}, \n",
    "                                            vmin=map_df[['cpc_per_1000']].min(), \n",
    "                                            vmax=map_df[['cpc_per_1000']].max())\n",
    "\n",
    "    cax.set_title('Normalized download traffic', loc='center', fontsize=10)\n",
    "\n",
    "    ax.axis('off')\n",
    "\n",
    "    plt.savefig(f'../viz/{city_str}.png', dpi=300, bbox_inches=\"tight\")\n",
    "    \n",
    "    plt.show()"
   ]
  },
  {
   "cell_type": "markdown",
   "id": "3d90df88",
   "metadata": {},
   "source": [
    "# Heatmap generation"
   ]
  },
  {
   "cell_type": "code",
   "execution_count": null,
   "id": "8702b5c6",
   "metadata": {},
   "outputs": [],
   "source": [
    "heatmap = pd.read_csv(\"../midsave/heatmap.csv\")\n",
    "\n",
    "weekdays = [\"Monday\", \"Tuesday\", \"Wednesday\", \"Thursday\", \"Friday\", \"Saturday\", \"Sunday\"]\n",
    "\n",
    "heatmap['Day'] = pd.Categorical(heatmap['Day'], categories=weekdays, ordered=True)\n",
    "\n",
    "heatmap = heatmap.sort_values(by='Day')\n",
    "\n",
    "heatmap = heatmap.reset_index(drop=True)"
   ]
  },
  {
   "cell_type": "code",
   "execution_count": null,
   "id": "0b351641",
   "metadata": {},
   "outputs": [],
   "source": [
    "heatmap.head(1)"
   ]
  },
  {
   "cell_type": "markdown",
   "id": "c49fe28e",
   "metadata": {},
   "source": [
    "#### Tor"
   ]
  },
  {
   "cell_type": "code",
   "execution_count": null,
   "id": "356154fd",
   "metadata": {},
   "outputs": [],
   "source": [
    "fig, ax = plt.subplots(1, figsize=(12, 2.5))\n",
    "\n",
    "sns.heatmap(heatmap.pivot(\"Day\", \"Hour\", \"Tor_scaled\"), cmap=sns.cubehelix_palette(as_cmap=True), \n",
    "                             cbar_kws={'label': 'Normalized download traffic'})\n",
    "\n",
    "fig.savefig('../viz/heatmap_tor.png', dpi=300, bbox_inches=\"tight\")"
   ]
  },
  {
   "cell_type": "markdown",
   "id": "a84a8dcb",
   "metadata": {},
   "source": [
    "#### Web Adult"
   ]
  },
  {
   "cell_type": "code",
   "execution_count": null,
   "id": "41e3ed22",
   "metadata": {},
   "outputs": [],
   "source": [
    "fig, ax = plt.subplots(1, figsize=(12, 2.5))\n",
    "\n",
    "sns.heatmap(heatmap.pivot(\"Day\", \"Hour\", \"Web_Adult\"), cmap=sns.cubehelix_palette(as_cmap=True), \n",
    "                             cbar_kws={'label': 'Normalized download traffic'})\n",
    "\n",
    "fig.savefig('../viz/heatmap_wa.png', dpi=300, bbox_inches=\"tight\")"
   ]
  },
  {
   "cell_type": "markdown",
   "id": "d4cf910f",
   "metadata": {},
   "source": [
    "#### YouTube"
   ]
  },
  {
   "cell_type": "code",
   "execution_count": null,
   "id": "dec063b6",
   "metadata": {
    "scrolled": true
   },
   "outputs": [],
   "source": [
    "fig, ax = plt.subplots(1, figsize=(12, 2.5))\n",
    "\n",
    "sns.heatmap(heatmap.pivot(\"Day\", \"Hour\", \"YouTube\"), cmap=sns.cubehelix_palette(as_cmap=True), \n",
    "                             cbar_kws={'label': 'Normalized download traffic'})\n",
    "\n",
    "fig.savefig('../viz/heatmap_yt.png', dpi=300, bbox_inches=\"tight\")"
   ]
  },
  {
   "cell_type": "markdown",
   "id": "ae5b0e94",
   "metadata": {},
   "source": [
    "#### Top 10"
   ]
  },
  {
   "cell_type": "code",
   "execution_count": null,
   "id": "92cf52fc",
   "metadata": {},
   "outputs": [],
   "source": [
    "heatmap = pd.read_csv(\"../midsave/heatmap_10.csv\")\n",
    "\n",
    "heatmap['Day'] = pd.Categorical(heatmap['Day'], categories=weekdays, ordered=True)\n",
    "\n",
    "heatmap = heatmap.sort_values(by='Day')\n",
    "\n",
    "heatmap = heatmap.reset_index(drop=True)"
   ]
  },
  {
   "cell_type": "code",
   "execution_count": null,
   "id": "d85784eb",
   "metadata": {},
   "outputs": [],
   "source": [
    "fig, ax = plt.subplots(1, figsize=(12, 2.5))\n",
    "\n",
    "sns.heatmap(heatmap.pivot(\"Day\", \"Hour\", \"Tor_scaled\"), cmap=sns.cubehelix_palette(as_cmap=True), \n",
    "                             cbar_kws={'label': 'Normalized download traffic'})\n",
    "\n",
    "fig.savefig('../viz/heatmap_tor_10.png', dpi=300, bbox_inches=\"tight\")"
   ]
  },
  {
   "cell_type": "markdown",
   "id": "024bb554",
   "metadata": {},
   "source": [
    "#### Number 1"
   ]
  },
  {
   "cell_type": "code",
   "execution_count": null,
   "id": "d2f30185",
   "metadata": {},
   "outputs": [],
   "source": [
    "heatmap = pd.read_csv(\"../midsave/heatmap_1_31352.csv\")\n",
    "\n",
    "heatmap['Day'] = pd.Categorical(heatmap['Day'], categories=weekdays, ordered=True)\n",
    "\n",
    "heatmap = heatmap.sort_values(by='Day')\n",
    "\n",
    "heatmap = heatmap.reset_index(drop=True)"
   ]
  },
  {
   "cell_type": "code",
   "execution_count": null,
   "id": "551103a5",
   "metadata": {},
   "outputs": [],
   "source": [
    "fig, ax = plt.subplots(1, figsize=(12, 2.5))\n",
    "\n",
    "sns.heatmap(heatmap.pivot(\"Day\", \"Hour\", \"Tor_scaled\"), cmap=sns.cubehelix_palette(as_cmap=True), \n",
    "                             cbar_kws={'label': 'Normalized download traffic'})\n",
    "\n",
    "fig.savefig('../viz/heatmap_1_31352.png', dpi=300, bbox_inches=\"tight\")"
   ]
  },
  {
   "cell_type": "markdown",
   "id": "998b065c",
   "metadata": {},
   "source": [
    "#### Number 2"
   ]
  },
  {
   "cell_type": "code",
   "execution_count": null,
   "id": "afee779c",
   "metadata": {},
   "outputs": [],
   "source": [
    "heatmap = pd.read_csv(\"../midsave/heatmap_2_21192.csv\")\n",
    "\n",
    "heatmap['Day'] = pd.Categorical(heatmap['Day'], categories=weekdays, ordered=True)\n",
    "\n",
    "heatmap = heatmap.sort_values(by='Day')\n",
    "\n",
    "heatmap = heatmap.reset_index(drop=True)"
   ]
  },
  {
   "cell_type": "code",
   "execution_count": null,
   "id": "5ad73c18",
   "metadata": {},
   "outputs": [],
   "source": [
    "fig, ax = plt.subplots(1, figsize=(12, 2.5))\n",
    "\n",
    "sns.heatmap(heatmap.pivot(\"Day\", \"Hour\", \"Tor_scaled\"), cmap=sns.cubehelix_palette(as_cmap=True), \n",
    "                             cbar_kws={'label': 'Normalized download traffic'})\n",
    "\n",
    "fig.savefig('../viz/heatmap_2_21192.png', dpi=300, bbox_inches=\"tight\")"
   ]
  },
  {
   "cell_type": "markdown",
   "id": "529723b2",
   "metadata": {},
   "source": [
    "#### Number 3"
   ]
  },
  {
   "cell_type": "code",
   "execution_count": null,
   "id": "e80b223d",
   "metadata": {},
   "outputs": [],
   "source": [
    "heatmap = pd.read_csv(\"../midsave/heatmap_3_45072.csv\")\n",
    "\n",
    "heatmap['Day'] = pd.Categorical(heatmap['Day'], categories=weekdays, ordered=True)\n",
    "\n",
    "heatmap = heatmap.sort_values(by='Day')\n",
    "\n",
    "heatmap = heatmap.reset_index(drop=True)"
   ]
  },
  {
   "cell_type": "code",
   "execution_count": null,
   "id": "fd963f03",
   "metadata": {},
   "outputs": [],
   "source": [
    "fig, ax = plt.subplots(1, figsize=(12, 2.5))\n",
    "\n",
    "sns.heatmap(heatmap.pivot(\"Day\", \"Hour\", \"Tor_scaled\"), cmap=sns.cubehelix_palette(as_cmap=True), \n",
    "                             cbar_kws={'label': 'Normalized download traffic'})\n",
    "\n",
    "fig.savefig('../viz/heatmap_3_45072.png', dpi=300, bbox_inches=\"tight\")"
   ]
  }
 ],
 "metadata": {
  "kernelspec": {
   "display_name": "Python 3 (ipykernel)",
   "language": "python",
   "name": "python3"
  },
  "language_info": {
   "codemirror_mode": {
    "name": "ipython",
    "version": 3
   },
   "file_extension": ".py",
   "mimetype": "text/x-python",
   "name": "python",
   "nbconvert_exporter": "python",
   "pygments_lexer": "ipython3",
   "version": "3.10.9"
  },
  "varInspector": {
   "cols": {
    "lenName": 16,
    "lenType": 16,
    "lenVar": 40
   },
   "kernels_config": {
    "python": {
     "delete_cmd_postfix": "",
     "delete_cmd_prefix": "del ",
     "library": "var_list.py",
     "varRefreshCmd": "print(var_dic_list())"
    },
    "r": {
     "delete_cmd_postfix": ") ",
     "delete_cmd_prefix": "rm(",
     "library": "var_list.r",
     "varRefreshCmd": "cat(var_dic_list()) "
    }
   },
   "types_to_exclude": [
    "module",
    "function",
    "builtin_function_or_method",
    "instance",
    "_Feature"
   ],
   "window_display": false
  }
 },
 "nbformat": 4,
 "nbformat_minor": 5
}
